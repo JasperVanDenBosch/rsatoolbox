{
 "cells": [
  {
   "attachments": {},
   "cell_type": "markdown",
   "metadata": {},
   "source": [
    "# EEG Demo"
   ]
  },
  {
   "attachments": {},
   "cell_type": "markdown",
   "metadata": {},
   "source": [
    "## Stimuli\n",
    "\n",
    "https://naturalscenesdataset.org\n",
    "\n",
    "(downsampled) examples:"
   ]
  },
  {
   "attachments": {},
   "cell_type": "markdown",
   "metadata": {},
   "source": [
    "![sample1](demo_eeg_data/shared0140_nsd11797.png)\n",
    "![sample2](demo_eeg_data/shared0936_nsd67830.png)\n",
    "![sample3](demo_eeg_data/shared0944_nsd68742.png)"
   ]
  },
  {
   "attachments": {},
   "cell_type": "markdown",
   "metadata": {},
   "source": [
    "## imports\n",
    "\n",
    "install mne"
   ]
  },
  {
   "cell_type": "code",
   "execution_count": 1,
   "metadata": {},
   "outputs": [],
   "source": [
    "%matplotlib inline\n",
    "from os.path import join, expanduser, basename\n",
    "import glob, json\n",
    "import numpy, tqdm, mne, pandas\n",
    "import rsatoolbox\n",
    "from sklearn.preprocessing import MinMaxScaler\n",
    "from numpy import atleast_2d\n",
    "from scipy.spatial.distance import pdist\n",
    "from matplotlib import pyplot\n",
    "demo_data_dir = './demo_eeg_data/'\n",
    "epochs_data_dir = expanduser('~/data/imasemrsa/epochs') #TODO"
   ]
  },
  {
   "attachments": {},
   "cell_type": "markdown",
   "metadata": {},
   "source": [
    "## Preprocess data\n",
    "\n",
    "Here we preprocess the EEG data, by looping over the runs, \n",
    "reading in the bdf raw data file, applying a band pass filter,\n",
    "setting a new reference (from electrodes on the mastoids) and epoching\n",
    "the trials."
   ]
  },
  {
   "cell_type": "code",
   "execution_count": 14,
   "metadata": {},
   "outputs": [
    {
     "name": "stderr",
     "output_type": "stream",
     "text": [
      "0it [00:00, ?it/s]\n"
     ]
    }
   ],
   "source": [
    "rawdata = expanduser('~/data/imasem/rawdata')\n",
    "derivdata = expanduser('~/data/imasemrsa/epochs')\n",
    "\n",
    "fpaths = glob.glob(join(rawdata, '**/*_eeg.bdf'), recursive=True)\n",
    "all_epochs = []\n",
    "for fpath in tqdm.tqdm(fpaths, smoothing=0):\n",
    "    raw = mne.io.read_raw_bdf(fpath, preload=True, verbose='error')\n",
    "    chans_fpath = fpath.replace('_eeg.bdf', '_channels.tsv')\n",
    "    chans_df = pandas.read_csv(chans_fpath, sep='\\t')\n",
    "\n",
    "    # drop unused channels\n",
    "    misc_chans = chans_df[chans_df.type=='MISC'].name.to_list()\n",
    "    raw = raw.drop_channels(misc_chans)\n",
    "\n",
    "    # filter\n",
    "    raw = raw.filter(l_freq=0.1, h_freq=40, verbose='error')\n",
    "\n",
    "    # rereference\n",
    "    ref_chans = chans_df[chans_df.type=='REF'].name.to_list()\n",
    "    raw.set_eeg_reference(ref_channels=ref_chans, verbose='error')\n",
    "\n",
    "    # TODO: add nsd labels in event dict?\n",
    "    events = mne.find_events(raw, verbose='error')\n",
    "    eeg_chans = chans_df[chans_df.type=='EEG'].name.to_list()\n",
    "    epochs = mne.Epochs(\n",
    "        raw,\n",
    "        events,\n",
    "        decim=8,\n",
    "        tmin=-0.2,\n",
    "        tmax=+1.0,\n",
    "        picks=eeg_chans,\n",
    "        verbose='error'\n",
    "    )\n",
    "    fname = basename(fpath.replace('_eeg.bdf', '_epo.fif'))\n",
    "    epochs.save(join(derivdata, fname), verbose='error')\n",
    "    all_epochs.append(epochs)"
   ]
  },
  {
   "attachments": {},
   "cell_type": "markdown",
   "metadata": {},
   "source": [
    "## Event-Related Potential\n",
    "To give you an idea of what the data looks like at this point, here's an ERP plot"
   ]
  },
  {
   "cell_type": "code",
   "execution_count": null,
   "metadata": {},
   "outputs": [],
   "source": [
    "grand_avg = mne.concatenate_epochs(all_epochs).average()\n",
    "grand_avg.set_montage(mne.channels.make_standard_montage('biosemi128'))\n",
    "grand_avg.plot_joint()\n",
    "pyplot.close()"
   ]
  },
  {
   "attachments": {},
   "cell_type": "markdown",
   "metadata": {},
   "source": [
    "## Importing the data to rsatoolbox\n",
    "\n",
    "This is where the rsatoolbox library comes into play.\n",
    "We use the rsatoolbox function `io.mne.read_epochs` to load each individual run,\n",
    "then merge them per subject"
   ]
  },
  {
   "cell_type": "code",
   "execution_count": 2,
   "metadata": {},
   "outputs": [
    {
     "ename": "AttributeError",
     "evalue": "module 'rsatoolbox.io' has no attribute 'mne'",
     "output_type": "error",
     "traceback": [
      "\u001b[0;31m---------------------------------------------------------------------------\u001b[0m",
      "\u001b[0;31mAttributeError\u001b[0m                            Traceback (most recent call last)",
      "\u001b[1;32m/Users/jasper/projects/rsatoolbox/demos/demo_eeg.ipynb Cell 6\u001b[0m in \u001b[0;36m5\n\u001b[1;32m      <a href='vscode-notebook-cell:/Users/jasper/projects/rsatoolbox/demos/demo_eeg.ipynb#W5sZmlsZQ%3D%3D?line=2'>3</a>\u001b[0m runs \u001b[39m=\u001b[39m []\n\u001b[1;32m      <a href='vscode-notebook-cell:/Users/jasper/projects/rsatoolbox/demos/demo_eeg.ipynb#W5sZmlsZQ%3D%3D?line=3'>4</a>\u001b[0m \u001b[39mfor\u001b[39;00m fpath \u001b[39min\u001b[39;00m glob\u001b[39m.\u001b[39mglob(join(epochs_data_dir, \u001b[39mf\u001b[39m\u001b[39m'\u001b[39m\u001b[39msub-0\u001b[39m\u001b[39m{\u001b[39;00msub\u001b[39m}\u001b[39;00m\u001b[39m*task-images*.fif\u001b[39m\u001b[39m'\u001b[39m)):\n\u001b[0;32m----> <a href='vscode-notebook-cell:/Users/jasper/projects/rsatoolbox/demos/demo_eeg.ipynb#W5sZmlsZQ%3D%3D?line=4'>5</a>\u001b[0m     runs\u001b[39m.\u001b[39mappend(rsatoolbox\u001b[39m.\u001b[39;49mio\u001b[39m.\u001b[39;49mmne\u001b[39m.\u001b[39mread_epochs(fpath))\n\u001b[1;32m      <a href='vscode-notebook-cell:/Users/jasper/projects/rsatoolbox/demos/demo_eeg.ipynb#W5sZmlsZQ%3D%3D?line=6'>7</a>\u001b[0m \u001b[39m## concatenate runs\u001b[39;00m\n\u001b[1;32m      <a href='vscode-notebook-cell:/Users/jasper/projects/rsatoolbox/demos/demo_eeg.ipynb#W5sZmlsZQ%3D%3D?line=7'>8</a>\u001b[0m dataset \u001b[39m=\u001b[39m rsatoolbox\u001b[39m.\u001b[39mdata\u001b[39m.\u001b[39mops\u001b[39m.\u001b[39mmerge_datasets(runs)\n",
      "\u001b[0;31mAttributeError\u001b[0m: module 'rsatoolbox.io' has no attribute 'mne'"
     ]
    }
   ],
   "source": [
    "## loading the epoched data into rsatoolbox\n",
    "sub = 1\n",
    "runs = []\n",
    "for fpath in glob.glob(join(epochs_data_dir, f'sub-0{sub}*task-images*.fif')):\n",
    "    runs.append(rsatoolbox.io.mne.read_epochs(fpath))\n",
    "\n",
    "## concatenate runs\n",
    "dataset = rsatoolbox.data.ops.merge_datasets(runs)\n",
    "dataset.measurements.shape"
   ]
  },
  {
   "attachments": {},
   "cell_type": "markdown",
   "metadata": {},
   "source": [
    "## Spatiotemporal window\n",
    "bla"
   ]
  },
  {
   "cell_type": "code",
   "execution_count": null,
   "metadata": {},
   "outputs": [],
   "source": [
    "## collapse timepoints in window\n",
    "ds_window = ds.subset_time('time', WINDOW_T_START, WINDOW_T_END)\n",
    "ds_window_collapsed = Dataset(\n",
    "    measurements=ds_window.measurements.reshape(ds_window.measurements.shape[0], -1),\n",
    "    descriptors=ds_window.descriptors,\n",
    "    obs_descriptors=ds_window.obs_descriptors\n",
    ")"
   ]
  },
  {
   "cell_type": "code",
   "execution_count": null,
   "metadata": {},
   "outputs": [],
   "source": []
  },
  {
   "attachments": {},
   "cell_type": "markdown",
   "metadata": {},
   "source": [
    "## data rdms"
   ]
  },
  {
   "cell_type": "code",
   "execution_count": 21,
   "metadata": {},
   "outputs": [],
   "source": [
    "## this should be three cells\n",
    "#P400\n",
    "timepoints = dataset.time_descriptors['time']\n",
    "p400_tps = timepoints[numpy.bitwise_and(timepoints > 0.35, timepoints < 0.45)]\n",
    "## TODO loop this\n",
    "ds_bins = dataset.bin_time('time', p400_tps).convert_to_dataset('time')\n",
    "\n",
    "## create crossvalidation folding descriptor\n",
    "fold = ds.obs_descriptors['run'].astype(int)//RUNS_PER_FOLD # three runs per fold\n",
    "ds.obs_descriptors['fold'] = fold # store it with the dataset\n",
    "\n",
    "## calc rdm\n",
    "data_rdms = rsatoolbox.rdm.calc.calc_rdm_crossnobis(ds_bins, descriptor='triggers')"
   ]
  },
  {
   "attachments": {},
   "cell_type": "markdown",
   "metadata": {},
   "source": [
    "## Visualize data RDMs\n",
    "Talk about RDMs here, lack of structure due to scenes, order."
   ]
  },
  {
   "cell_type": "code",
   "execution_count": null,
   "metadata": {},
   "outputs": [],
   "source": [
    "# plot movie here"
   ]
  },
  {
   "attachments": {},
   "cell_type": "markdown",
   "metadata": {},
   "source": [
    "## Preprocess annotations\n",
    "goal\n",
    "collection\n",
    "structure"
   ]
  },
  {
   "cell_type": "code",
   "execution_count": 22,
   "metadata": {},
   "outputs": [
    {
     "data": {
      "text/html": [
       "<div>\n",
       "<style scoped>\n",
       "    .dataframe tbody tr th:only-of-type {\n",
       "        vertical-align: middle;\n",
       "    }\n",
       "\n",
       "    .dataframe tbody tr th {\n",
       "        vertical-align: top;\n",
       "    }\n",
       "\n",
       "    .dataframe thead th {\n",
       "        text-align: right;\n",
       "    }\n",
       "</style>\n",
       "<table border=\"1\" class=\"dataframe\">\n",
       "  <thead>\n",
       "    <tr style=\"text-align: right;\">\n",
       "      <th></th>\n",
       "      <th>distance</th>\n",
       "      <th>animacy</th>\n",
       "      <th>inoutdoors</th>\n",
       "      <th>color</th>\n",
       "      <th>indoor</th>\n",
       "      <th>stim</th>\n",
       "    </tr>\n",
       "  </thead>\n",
       "  <tbody>\n",
       "    <tr>\n",
       "      <th>92</th>\n",
       "      <td>0.84</td>\n",
       "      <td>True</td>\n",
       "      <td>Outdoor</td>\n",
       "      <td>green</td>\n",
       "      <td>False</td>\n",
       "      <td>shared0318_nsd25112</td>\n",
       "    </tr>\n",
       "    <tr>\n",
       "      <th>97</th>\n",
       "      <td>0.69</td>\n",
       "      <td>True</td>\n",
       "      <td>Outdoor</td>\n",
       "      <td>green</td>\n",
       "      <td>False</td>\n",
       "      <td>shared0008_nsd03172</td>\n",
       "    </tr>\n",
       "    <tr>\n",
       "      <th>86</th>\n",
       "      <td>0.49</td>\n",
       "      <td>True</td>\n",
       "      <td>Outdoor</td>\n",
       "      <td>red</td>\n",
       "      <td>False</td>\n",
       "      <td>shared0968_nsd70194</td>\n",
       "    </tr>\n",
       "    <tr>\n",
       "      <th>99</th>\n",
       "      <td>0.21</td>\n",
       "      <td>True</td>\n",
       "      <td>Outdoor</td>\n",
       "      <td>blue</td>\n",
       "      <td>False</td>\n",
       "      <td>shared0925_nsd66977</td>\n",
       "    </tr>\n",
       "    <tr>\n",
       "      <th>44</th>\n",
       "      <td>0.58</td>\n",
       "      <td>False</td>\n",
       "      <td>Outdoor</td>\n",
       "      <td>green</td>\n",
       "      <td>False</td>\n",
       "      <td>shared0857_nsd62210</td>\n",
       "    </tr>\n",
       "    <tr>\n",
       "      <th>5</th>\n",
       "      <td>0.14</td>\n",
       "      <td>False</td>\n",
       "      <td>Indoor</td>\n",
       "      <td>red</td>\n",
       "      <td>True</td>\n",
       "      <td>shared0789_nsd56912</td>\n",
       "    </tr>\n",
       "    <tr>\n",
       "      <th>56</th>\n",
       "      <td>0.62</td>\n",
       "      <td>True</td>\n",
       "      <td>Outdoor</td>\n",
       "      <td>green</td>\n",
       "      <td>False</td>\n",
       "      <td>shared0589_nsd43690</td>\n",
       "    </tr>\n",
       "  </tbody>\n",
       "</table>\n",
       "</div>"
      ],
      "text/plain": [
       "   distance  animacy inoutdoors  color  indoor                 stim\n",
       "92     0.84     True    Outdoor  green   False  shared0318_nsd25112\n",
       "97     0.69     True    Outdoor  green   False  shared0008_nsd03172\n",
       "86     0.49     True    Outdoor    red   False  shared0968_nsd70194\n",
       "99     0.21     True    Outdoor   blue   False  shared0925_nsd66977\n",
       "44     0.58    False    Outdoor  green   False  shared0857_nsd62210\n",
       "5      0.14    False     Indoor    red    True  shared0789_nsd56912\n",
       "56     0.62     True    Outdoor  green   False  shared0589_nsd43690"
      ]
     },
     "execution_count": 22,
     "metadata": {},
     "output_type": "execute_result"
    }
   ],
   "source": [
    "fpaths = glob(join(data_dir, '*_annotations.csv'))\n",
    "subject_dfs = []\n",
    "for fpath in fpaths:\n",
    "    df_raw = pandas.read_csv(fpath)\n",
    "    df = pandas.json_normalize(df_raw.label.apply(json.loads).tolist())\n",
    "    df['sub'] = basename(fpath).split('_')[-3]\n",
    "    df['nsd'] = df_raw.stim1_name\n",
    "    df['animacy'] = df.animacy.str.contains('Yes').astype(float)\n",
    "    df['in_out'] = df.inoutdoors.str.contains('Indoor').astype(float)\n",
    "    df['r'] = (df.color == 'red').astype(float)\n",
    "    df['g'] = (df.color == 'green').astype(float)\n",
    "    df['b'] = (df.color == 'blue').astype(float)\n",
    "    dist_unscaled = df.distance.astype(float).values.reshape(-1, 1)\n",
    "    df['distance'] = MinMaxScaler().fit_transform(dist_unscaled).squeeze()\n",
    "    df = df.drop(['inoutdoors', 'color'], axis=1)\n",
    "    subject_dfs.append(df)\n",
    "\n",
    "subject_dfs[0].sample(7)"
   ]
  },
  {
   "attachments": {},
   "cell_type": "markdown",
   "metadata": {},
   "source": [
    "## Annotation RDMs"
   ]
  },
  {
   "cell_type": "code",
   "execution_count": 23,
   "metadata": {},
   "outputs": [
    {
     "data": {
      "image/png": "[encoded data removed]",
      "text/plain": [
       "<Figure size 400x400 with 4 Axes>"
      ]
     },
     "metadata": {},
     "output_type": "display_data"
    }
   ],
   "source": [
    "\n",
    "ds = Dataset.from_df(pandas.concat(subject_dfs))\n",
    "\n",
    "\n",
    "rdm_list = []\n",
    "for c in ('animacy', 'in_out', 'distance'):\n",
    "    model_rdm = calc_rdm_euclidean(\n",
    "        ds.subset_channel('name', c),\n",
    "        descriptor='nsd'\n",
    "    )\n",
    "    model_rdm.rdm_descriptors['name'] = [c]\n",
    "    rdm_list.append(model_rdm)\n",
    "model_rdm = calc_rdm_euclidean(\n",
    "    ds.subset_channel('name', ['r', 'g', 'b']),\n",
    "    descriptor='nsd'\n",
    ")\n",
    "model_rdm.rdm_descriptors['name'] = ['color']\n",
    "rdm_list.append(model_rdm)\n",
    "rdms = concat(rdm_list)\n",
    "rdms.dissimilarities = numpy.sqrt(rdms.dissimilarities)\n",
    "fig, _, _ = rsatoolbox.vis.show_rdm(model_rdms, rdm_descriptor='name')\n",
    "pyplot.show()"
   ]
  },
  {
   "attachments": {},
   "cell_type": "markdown",
   "metadata": {},
   "source": [
    "## Create rsa models"
   ]
  },
  {
   "cell_type": "code",
   "execution_count": 24,
   "metadata": {},
   "outputs": [],
   "source": [
    "model_names = annotation_rdms.rdm_descriptors['name']\n",
    "models = []\n",
    "for model_name in model_names:\n",
    "    model_rdm = annotation_rdms.subset('name', model_name)\n",
    "    models.append(ModelFixed(model_name, model_rdm))\n"
   ]
  },
  {
   "attachments": {},
   "cell_type": "markdown",
   "metadata": {},
   "source": [
    "## Evaluate models"
   ]
  },
  {
   "cell_type": "code",
   "execution_count": null,
   "metadata": {},
   "outputs": [],
   "source": [
    "\n",
    "# Fixed\n",
    "result_fixed = eval_fixed(models, rdms_condition, method='corr')\n",
    "print(result_fixed)\n",
    "plt.close('all')\n",
    "plt.figure()\n",
    "fig, _, _ = plot_model_comparison(result_fixed)\n",
    "plt.savefig(join(plot_path, f'model-comp-fixed_task-{task}_phase-{phase}.png'), dpi=300)\n"
   ]
  }
 ],
 "metadata": {
  "kernelspec": {
   "display_name": "env",
   "language": "python",
   "name": "python3"
  },
  "language_info": {
   "codemirror_mode": {
    "name": "ipython",
    "version": 3
   },
   "file_extension": ".py",
   "mimetype": "text/x-python",
   "name": "python",
   "nbconvert_exporter": "python",
   "pygments_lexer": "ipython3",
   "version": "3.10.4"
  },
  "orig_nbformat": 4,
  "vscode": {
   "interpreter": {
    "hash": "af6f0c1be22da210ce14b764d3d407b4e31df46360687c396ac7d1fbf0a9a76f"
   }
  }
 },
 "nbformat": 4,
 "nbformat_minor": 2
}
