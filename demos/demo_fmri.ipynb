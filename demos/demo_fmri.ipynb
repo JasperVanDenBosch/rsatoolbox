{
 "cells": [
  {
   "cell_type": "markdown",
   "metadata": {},
   "source": [
    "# fMRI Demo"
   ]
  },
  {
   "cell_type": "markdown",
   "metadata": {},
   "source": [
    "## Introduction\n",
    "\n",
    "This is an example of RSA on a BIDS-structured fMRI dataset. This study is still under review, so we will update this demo to include steps to download the data when it becomes publicly available. \n",
    "\n",
    "Participants (n=14) viewed images of 16 objects, as well as their written name. Several properties of the stimuli were carefully balanced. They also performed several tasks, but for the purposes of this demo we will ignore these."
   ]
  },
  {
   "cell_type": "markdown",
   "metadata": {},
   "source": [
    "![stimuli](demo_fmri_files/mur32_stims.png)"
   ]
  },
  {
   "cell_type": "markdown",
   "metadata": {},
   "source": [
    "This library depends on *nibabel* for convenience functions to access MRI data, and is used separately in the demo as well, so start by installing nibabel (`pip install nibabel`).\n",
    "\n",
    "Then run the following imports:"
   ]
  },
  {
   "cell_type": "code",
   "execution_count": 1,
   "metadata": {},
   "outputs": [],
   "source": [
    "%matplotlib inline\n",
    "from os.path import expanduser\n",
    "from rsatoolbox.io.fmriprep import find_fmriprep_runs, make_design_matrix\n",
    "from rsatoolbox.data.dataset import Dataset, merge_datasets\n",
    "from rsatoolbox.rdm.rdms import concat\n",
    "from rsatoolbox.vis import show_rdm\n",
    "from rsatoolbox.rdm.calc import calc_rdm\n",
    "from rsatoolbox.data.noise import prec_from_residuals\n",
    "import numpy, pandas, matplotlib.pyplot"
   ]
  },
  {
   "cell_type": "markdown",
   "metadata": {},
   "source": [
    "Now we define the path to the BIDS-root data directory"
   ]
  },
  {
   "cell_type": "code",
   "execution_count": 2,
   "metadata": {},
   "outputs": [],
   "source": [
    "data_dir = expanduser('~/data/rsatoolbox/mur32')"
   ]
  },
  {
   "cell_type": "markdown",
   "metadata": {},
   "source": [
    "Next we use a utility function to find the relevant preprocessed BOLD images:"
   ]
  },
  {
   "cell_type": "code",
   "execution_count": 3,
   "metadata": {},
   "outputs": [
    {
     "data": {
      "text/plain": [
       "84"
      ]
     },
     "execution_count": 3,
     "metadata": {},
     "output_type": "execute_result"
    }
   ],
   "source": [
    "runs = find_fmriprep_runs(data_dir, tasks=['main'])\n",
    "len(runs)"
   ]
  },
  {
   "cell_type": "markdown",
   "metadata": {},
   "source": [
    "As with most real-world datasets, this one has some unplanned idiosyncrasies; subject 02 is missing some data, and to keep this demo straightforward, we will remove subject 02 from the analysis:"
   ]
  },
  {
   "cell_type": "code",
   "execution_count": 4,
   "metadata": {},
   "outputs": [
    {
     "data": {
      "text/plain": [
       "78"
      ]
     },
     "execution_count": 4,
     "metadata": {},
     "output_type": "execute_result"
    }
   ],
   "source": [
    "runs = [run for run in runs if run.boldFile.sub != '02']\n",
    "len(runs)"
   ]
  },
  {
   "cell_type": "markdown",
   "metadata": {},
   "source": [
    "Each run object carries the relevant data and metadata"
   ]
  },
  {
   "cell_type": "code",
   "execution_count": 5,
   "metadata": {},
   "outputs": [
    {
     "data": {
      "text/plain": [
       "<FmriprepRun [sub-13/ses-02/func/sub-13_ses-02_task-main_run-03_space-MNI152NLin2009cAsym_desc-preproc_bold.nii.gz]>"
      ]
     },
     "execution_count": 5,
     "metadata": {},
     "output_type": "execute_result"
    }
   ],
   "source": [
    "run = runs[0]\n",
    "run"
   ]
  },
  {
   "cell_type": "code",
   "execution_count": 6,
   "metadata": {},
   "outputs": [
    {
     "data": {
      "text/plain": [
       "(61476, 546)"
      ]
     },
     "execution_count": 6,
     "metadata": {},
     "output_type": "execute_result"
    }
   ],
   "source": [
    "dims = run.get_data(masked=True).shape ## bold timeseries: x * y * z * volumes\n",
    "n_vols = dims[-1]\n",
    "dims"
   ]
  },
  {
   "cell_type": "markdown",
   "metadata": {},
   "source": [
    "Access the attributes stored in the *_metadata.json* for this file"
   ]
  },
  {
   "cell_type": "code",
   "execution_count": 7,
   "metadata": {},
   "outputs": [
    {
     "data": {
      "text/plain": [
       "2"
      ]
     },
     "execution_count": 7,
     "metadata": {},
     "output_type": "execute_result"
    }
   ],
   "source": [
    "tr = run.get_meta()['RepetitionTime'] ## TR in seconds\n",
    "tr"
   ]
  },
  {
   "cell_type": "markdown",
   "metadata": {},
   "source": [
    "We will also load the events table"
   ]
  },
  {
   "cell_type": "code",
   "execution_count": 8,
   "metadata": {},
   "outputs": [
    {
     "data": {
      "text/html": [
       "<div>\n",
       "<style scoped>\n",
       "    .dataframe tbody tr th:only-of-type {\n",
       "        vertical-align: middle;\n",
       "    }\n",
       "\n",
       "    .dataframe tbody tr th {\n",
       "        vertical-align: top;\n",
       "    }\n",
       "\n",
       "    .dataframe thead th {\n",
       "        text-align: right;\n",
       "    }\n",
       "</style>\n",
       "<table border=\"1\" class=\"dataframe\">\n",
       "  <thead>\n",
       "    <tr style=\"text-align: right;\">\n",
       "      <th></th>\n",
       "      <th>onset</th>\n",
       "      <th>duration</th>\n",
       "      <th>trial_type</th>\n",
       "      <th>modality</th>\n",
       "      <th>identity</th>\n",
       "      <th>response_time</th>\n",
       "      <th>task</th>\n",
       "      <th>response_mapping</th>\n",
       "    </tr>\n",
       "  </thead>\n",
       "  <tbody>\n",
       "    <tr>\n",
       "      <th>265</th>\n",
       "      <td>794.984</td>\n",
       "      <td>0.500</td>\n",
       "      <td>image_table</td>\n",
       "      <td>image</td>\n",
       "      <td>table</td>\n",
       "      <td>0.722</td>\n",
       "      <td>fixation</td>\n",
       "      <td>right-left</td>\n",
       "    </tr>\n",
       "    <tr>\n",
       "      <th>58</th>\n",
       "      <td>173.982</td>\n",
       "      <td>0.500</td>\n",
       "      <td>text_glove</td>\n",
       "      <td>text</td>\n",
       "      <td>glove</td>\n",
       "      <td>0.794</td>\n",
       "      <td>fixation</td>\n",
       "      <td>left-right</td>\n",
       "    </tr>\n",
       "    <tr>\n",
       "      <th>248</th>\n",
       "      <td>743.998</td>\n",
       "      <td>0.483</td>\n",
       "      <td>baseline</td>\n",
       "      <td>NaN</td>\n",
       "      <td>NaN</td>\n",
       "      <td>NaN</td>\n",
       "      <td>NaN</td>\n",
       "      <td>NaN</td>\n",
       "    </tr>\n",
       "    <tr>\n",
       "      <th>133</th>\n",
       "      <td>398.984</td>\n",
       "      <td>0.500</td>\n",
       "      <td>baseline</td>\n",
       "      <td>NaN</td>\n",
       "      <td>NaN</td>\n",
       "      <td>NaN</td>\n",
       "      <td>NaN</td>\n",
       "      <td>NaN</td>\n",
       "    </tr>\n",
       "    <tr>\n",
       "      <th>174</th>\n",
       "      <td>521.997</td>\n",
       "      <td>0.500</td>\n",
       "      <td>image_sponge</td>\n",
       "      <td>image</td>\n",
       "      <td>sponge</td>\n",
       "      <td>0.795</td>\n",
       "      <td>semantic</td>\n",
       "      <td>left-right</td>\n",
       "    </tr>\n",
       "  </tbody>\n",
       "</table>\n",
       "</div>"
      ],
      "text/plain": [
       "       onset  duration    trial_type modality identity  response_time  \\\n",
       "265  794.984     0.500   image_table    image    table          0.722   \n",
       "58   173.982     0.500    text_glove     text    glove          0.794   \n",
       "248  743.998     0.483      baseline      NaN      NaN            NaN   \n",
       "133  398.984     0.500      baseline      NaN      NaN            NaN   \n",
       "174  521.997     0.500  image_sponge    image   sponge          0.795   \n",
       "\n",
       "         task response_mapping  \n",
       "265  fixation       right-left  \n",
       "58   fixation       left-right  \n",
       "248       NaN              NaN  \n",
       "133       NaN              NaN  \n",
       "174  semantic       left-right  "
      ]
     },
     "execution_count": 8,
     "metadata": {},
     "output_type": "execute_result"
    }
   ],
   "source": [
    "run.get_events().sample(5) ## 5 random events"
   ]
  },
  {
   "cell_type": "code",
   "execution_count": 9,
   "metadata": {},
   "outputs": [
    {
     "data": {
      "text/html": [
       "<div>\n",
       "<style scoped>\n",
       "    .dataframe tbody tr th:only-of-type {\n",
       "        vertical-align: middle;\n",
       "    }\n",
       "\n",
       "    .dataframe tbody tr th {\n",
       "        vertical-align: top;\n",
       "    }\n",
       "\n",
       "    .dataframe thead th {\n",
       "        text-align: right;\n",
       "    }\n",
       "</style>\n",
       "<table border=\"1\" class=\"dataframe\">\n",
       "  <thead>\n",
       "    <tr style=\"text-align: right;\">\n",
       "      <th></th>\n",
       "      <th>global_signal</th>\n",
       "      <th>csf</th>\n",
       "      <th>white_matter</th>\n",
       "      <th>trans_x</th>\n",
       "      <th>trans_y</th>\n",
       "      <th>trans_z</th>\n",
       "      <th>rot_x</th>\n",
       "      <th>rot_y</th>\n",
       "      <th>rot_z</th>\n",
       "    </tr>\n",
       "  </thead>\n",
       "  <tbody>\n",
       "    <tr>\n",
       "      <th>0</th>\n",
       "      <td>477.173160</td>\n",
       "      <td>721.191587</td>\n",
       "      <td>468.253287</td>\n",
       "      <td>0.097748</td>\n",
       "      <td>0.103464</td>\n",
       "      <td>0.150696</td>\n",
       "      <td>0.000077</td>\n",
       "      <td>0.000504</td>\n",
       "      <td>0.000718</td>\n",
       "    </tr>\n",
       "    <tr>\n",
       "      <th>1</th>\n",
       "      <td>481.804458</td>\n",
       "      <td>713.048937</td>\n",
       "      <td>468.591408</td>\n",
       "      <td>-0.008263</td>\n",
       "      <td>-0.055221</td>\n",
       "      <td>-0.093955</td>\n",
       "      <td>0.002140</td>\n",
       "      <td>0.001353</td>\n",
       "      <td>-0.000761</td>\n",
       "    </tr>\n",
       "    <tr>\n",
       "      <th>2</th>\n",
       "      <td>478.581165</td>\n",
       "      <td>705.795645</td>\n",
       "      <td>466.171710</td>\n",
       "      <td>0.028462</td>\n",
       "      <td>0.048614</td>\n",
       "      <td>0.059355</td>\n",
       "      <td>0.001037</td>\n",
       "      <td>0.000317</td>\n",
       "      <td>0.000058</td>\n",
       "    </tr>\n",
       "  </tbody>\n",
       "</table>\n",
       "</div>"
      ],
      "text/plain": [
       "   global_signal         csf  white_matter   trans_x   trans_y   trans_z  \\\n",
       "0     477.173160  721.191587    468.253287  0.097748  0.103464  0.150696   \n",
       "1     481.804458  713.048937    468.591408 -0.008263 -0.055221 -0.093955   \n",
       "2     478.581165  705.795645    466.171710  0.028462  0.048614  0.059355   \n",
       "\n",
       "      rot_x     rot_y     rot_z  \n",
       "0  0.000077  0.000504  0.000718  \n",
       "1  0.002140  0.001353 -0.000761  \n",
       "2  0.001037  0.000317  0.000058  "
      ]
     },
     "execution_count": 9,
     "metadata": {},
     "output_type": "execute_result"
    }
   ],
   "source": [
    "run.get_confounds().head(3)"
   ]
  },
  {
   "cell_type": "markdown",
   "metadata": {},
   "source": [
    "## Patterns\n",
    "\n",
    "Next we want to establish Multi-Voxel Patterns from the timeseries, such that, for each stimulus presentation, we have one observation per voxel. The most common way to do this is with a General Linear Model, where each predictor in the model reflects one type of event, convolved with the haemodynamic response function (HRF). For the purposes of this demo we will use a very basic glm implementation in Python. For a guide on MVPA, see [Mur et al. 2009](https://doi.org/10.1093/scan/nsn044)."
   ]
  },
  {
   "cell_type": "markdown",
   "metadata": {},
   "source": [
    "First we use a utility function which creates predictors from the events table and convolves them with the HRF. Note that we have 34 predictors, with a value for each volume in the BOLD timeseries. "
   ]
  },
  {
   "cell_type": "code",
   "execution_count": 10,
   "metadata": {},
   "outputs": [
    {
     "data": {
      "image/png": "[encoded data removed]",
      "text/plain": [
       "<Figure size 1400x800 with 1 Axes>"
      ]
     },
     "metadata": {},
     "output_type": "display_data"
    }
   ],
   "source": [
    "fig=matplotlib.pyplot.figure(figsize=(14,8))\n",
    "dm, exp_preds, _ = make_design_matrix(run.get_events(), tr, n_vols, run.get_confounds())\n",
    "matplotlib.pyplot.imshow(dm[:, exp_preds].T)\n",
    "matplotlib.pyplot.ylabel('predictors')\n",
    "matplotlib.pyplot.xlabel('volumes');"
   ]
  },
  {
   "cell_type": "markdown",
   "metadata": {},
   "source": [
    "This plot shows the design matrix. Every blip reflects the haemodynamic response to a single trial. The smooth line that appears in the first ~70 timepoints is a side effect of the conditions being sorted according to their first occurrence. The DM also includes additional confounds, but only the experimental conditions are shown."
   ]
  },
  {
   "cell_type": "markdown",
   "metadata": {},
   "source": [
    "### GLM\n",
    "Next we define our GLM function:"
   ]
  },
  {
   "cell_type": "code",
   "execution_count": 11,
   "metadata": {
    "tags": []
   },
   "outputs": [],
   "source": [
    "def simple_glm(data, dm):\n",
    "    data = data / data.mean(axis=0)\n",
    "    X = numpy.linalg.inv(dm.T @ dm) @ dm.T\n",
    "    betas = X @ data.T\n",
    "    resids = data - (betas.T @ X)\n",
    "    return betas, resids.T"
   ]
  },
  {
   "cell_type": "markdown",
   "metadata": {},
   "source": [
    "When we apply this to the first run we get the following pattern array"
   ]
  },
  {
   "cell_type": "code",
   "execution_count": 12,
   "metadata": {},
   "outputs": [
    {
     "data": {
      "text/plain": [
       "((34, 61476), (546, 61476))"
      ]
     },
     "execution_count": 12,
     "metadata": {},
     "output_type": "execute_result"
    }
   ],
   "source": [
    "patterns, mse = simple_glm(run.get_data(masked=True), dm)\n",
    "patterns[exp_preds].shape, mse.shape"
   ]
  },
  {
   "cell_type": "markdown",
   "metadata": {},
   "source": [
    "The run object then provides us with dictionaries with attributes that identify this run and its various dimensions. These map unto the rsatoolbox *descriptors*."
   ]
  },
  {
   "cell_type": "code",
   "execution_count": 13,
   "metadata": {},
   "outputs": [
    {
     "data": {
      "text/plain": [
       "{'descriptors': {'sub': '13', 'ses': '02', 'run': '03', 'task': 'main'},\n",
       " 'obs_descriptors': {'trial_type': array(['baseline', 'instruction', 'text_candle', 'text_kettle',\n",
       "         'image_candle', 'text_knife', 'text_glove', 'text_table',\n",
       "         'image_ladder', 'text_wheel', 'text_saddle', 'text_clock',\n",
       "         'text_glass', 'text_bagel', 'image_clock', 'image_table',\n",
       "         'image_knife', 'image_brick', 'image_bagel', 'image_wheel',\n",
       "         'text_ladder', 'image_pedal', 'text_brick', 'text_pedal',\n",
       "         'text_spade', 'image_helmet', 'image_glass', 'text_sponge',\n",
       "         'text_helmet', 'image_glove', 'image_spade', 'image_sponge',\n",
       "         'image_kettle', 'image_saddle'], dtype=object)},\n",
       " 'channel_descriptors': {'aparcaseg': array(['Unknown', 'Unknown', 'Unknown', ..., 'Unknown', 'Unknown',\n",
       "         'Unknown'], dtype=object)}}"
      ]
     },
     "execution_count": 13,
     "metadata": {},
     "output_type": "execute_result"
    }
   ],
   "source": [
    "run.to_descriptors(collapse_by_trial_type=True)"
   ]
  },
  {
   "cell_type": "markdown",
   "metadata": {},
   "source": [
    "We can then combine the patterns and descriptors to create an rsatoolbox `Dataset` object"
   ]
  },
  {
   "cell_type": "code",
   "execution_count": 14,
   "metadata": {},
   "outputs": [
    {
     "data": {
      "text/plain": [
       "rsatoolbox.data.Dataset(\n",
       "measurements = \n",
       "[[-0.02427981 -0.01328701  0.0033335  ... -0.01058603 -0.01259651\n",
       "   0.00259773]\n",
       " [-0.01389456 -0.01006202 -0.00965016 ... -0.01751673 -0.00750606\n",
       "   0.00127251]\n",
       " [-0.01339506 -0.00745599 -0.0036139  ... -0.02659599  0.00405931\n",
       "   0.00219127]\n",
       " ...\n",
       " [-0.0111526  -0.00591498  0.0071384  ... -0.04013288  0.001525\n",
       "   0.00112485]\n",
       " [-0.00801815 -0.00501508 -0.00862235 ...  0.00776933  0.00193777\n",
       "   0.00118835]\n",
       " [-0.01332423 -0.00477465 -0.00488257 ... -0.0319292  -0.00143897\n",
       "   0.00458679]]\n",
       "descriptors = \n",
       "{'sub': '13', 'ses': '02', 'run': '03', 'task': 'main'}\n",
       "obs_descriptors = \n",
       "{'trial_type': array(['baseline', 'instruction', 'text_candle', 'text_kettle',\n",
       "       'image_candle', 'text_knife', 'text_glove', 'text_table',\n",
       "       'image_ladder', 'text_wheel', 'text_saddle', 'text_clock',\n",
       "       'text_glass', 'text_bagel', 'image_clock', 'image_table',\n",
       "       'image_knife', 'image_brick', 'image_bagel', 'image_wheel',\n",
       "       'text_ladder', 'image_pedal', 'text_brick', 'text_pedal',\n",
       "       'text_spade', 'image_helmet', 'image_glass', 'text_sponge',\n",
       "       'text_helmet', 'image_glove', 'image_spade', 'image_sponge',\n",
       "       'image_kettle', 'image_saddle'], dtype=object)}\n",
       "channel_descriptors = \n",
       "{'aparcaseg': array(['Unknown', 'Unknown', 'Unknown', ..., 'Unknown', 'Unknown',\n",
       "       'Unknown'], dtype=object)}"
      ]
     },
     "execution_count": 14,
     "metadata": {},
     "output_type": "execute_result"
    }
   ],
   "source": [
    "Dataset(\n",
    "    measurements=patterns[exp_preds],\n",
    "    descriptors=run.get_dataset_descriptors(),\n",
    "    obs_descriptors=run.get_obs_descriptors(collapse_by_trial_type=True),\n",
    "    channel_descriptors=run.get_channel_descriptors(masked=True)\n",
    ")"
   ]
  },
  {
   "cell_type": "markdown",
   "metadata": {},
   "source": [
    "Let's repeat this for the other runs: (takes about 4mins). Along the way we also store the MSE residuals for each run."
   ]
  },
  {
   "cell_type": "code",
   "execution_count": 15,
   "metadata": {},
   "outputs": [
    {
     "data": {
      "text/plain": [
       "78"
      ]
     },
     "execution_count": 15,
     "metadata": {},
     "output_type": "execute_result"
    }
   ],
   "source": [
    "run_datasets = []\n",
    "run_noise_sets = []\n",
    "for run in runs:\n",
    "    dm, exp_preds, _ = make_design_matrix(run.get_events(), tr, n_vols, run.get_confounds())\n",
    "    patterns, mse = simple_glm(run.get_data(masked=True), dm)\n",
    "    run_datasets.append(\n",
    "        Dataset(\n",
    "            measurements=patterns[exp_preds],\n",
    "            descriptors=run.get_dataset_descriptors(),\n",
    "            obs_descriptors=run.get_obs_descriptors(collapse_by_trial_type=True),\n",
    "            channel_descriptors=run.get_channel_descriptors(masked=True)\n",
    "        )\n",
    "    )\n",
    "    run_noise_sets.append(\n",
    "        Dataset(\n",
    "            measurements=mse.astype(numpy.float32),\n",
    "            descriptors=run.get_dataset_descriptors(),\n",
    "            channel_descriptors=run.get_channel_descriptors(masked=True)\n",
    "        )\n",
    "    )\n",
    "len(run_datasets)"
   ]
  },
  {
   "cell_type": "code",
   "execution_count": 16,
   "metadata": {},
   "outputs": [
    {
     "data": {
      "text/plain": [
       "(34, 61476)"
      ]
     },
     "execution_count": 16,
     "metadata": {},
     "output_type": "execute_result"
    }
   ],
   "source": [
    "run_datasets[0].measurements.shape"
   ]
  },
  {
   "cell_type": "markdown",
   "metadata": {},
   "source": [
    "## Calculate data RDMs"
   ]
  },
  {
   "cell_type": "markdown",
   "metadata": {},
   "source": [
    "Let's remove the *baseline* and *instruction* conditions as they are not relevant for our RSA approach:"
   ]
  },
  {
   "cell_type": "code",
   "execution_count": 17,
   "metadata": {},
   "outputs": [
    {
     "data": {
      "text/plain": [
       "32"
      ]
     },
     "metadata": {},
     "output_type": "display_data"
    }
   ],
   "source": [
    "first_ds = run_datasets[0]\n",
    "all_conds = numpy.unique(first_ds.obs_descriptors['trial_type'])\n",
    "object_conds = [c for c in all_conds if c not in ('baseline', 'instruction')]\n",
    "display(len(object_conds)) ## 32 conditions remaining\n",
    "run_datasets = [ds.subset_obs('trial_type', object_conds) for ds in run_datasets]"
   ]
  },
  {
   "cell_type": "markdown",
   "metadata": {},
   "source": [
    "Next we focus on a ROI: The right hemisphere IT as provided by the cortical parcellation *aparc*"
   ]
  },
  {
   "cell_type": "code",
   "execution_count": 18,
   "metadata": {},
   "outputs": [],
   "source": [
    "label = 'ctx-rh-inferiortemporal'\n",
    "it_datasets = [ds.subset_channel('aparcaseg', label) for ds in run_datasets]\n",
    "it_noise_datasets = [nds.subset_channel('aparcaseg', label) for nds in run_noise_sets]"
   ]
  },
  {
   "cell_type": "markdown",
   "metadata": {},
   "source": [
    "Calculate the noise precision (with shrinkage) matrix for each run"
   ]
  },
  {
   "cell_type": "code",
   "execution_count": 19,
   "metadata": {},
   "outputs": [
    {
     "data": {
      "text/plain": [
       "43"
      ]
     },
     "metadata": {},
     "output_type": "display_data"
    }
   ],
   "source": [
    "degrees_of_freedom = dm.shape[1]\n",
    "display(degrees_of_freedom)"
   ]
  },
  {
   "cell_type": "code",
   "execution_count": 21,
   "metadata": {},
   "outputs": [],
   "source": [
    "run_precs = []\n",
    "for nds in it_noise_datasets:\n",
    "    run_precs.append(\n",
    "        prec_from_residuals(\n",
    "            nds.measurements,\n",
    "            dof=degrees_of_freedom,\n",
    "            method='shrinkage_diag'\n",
    "        )\n",
    "    )"
   ]
  },
  {
   "cell_type": "markdown",
   "metadata": {},
   "source": [
    "Then pass this list to `calc_rdm` to compute the mahalanobis dissimilarity:"
   ]
  },
  {
   "cell_type": "code",
   "execution_count": 22,
   "metadata": {},
   "outputs": [],
   "source": [
    "data_rdms = calc_rdm(\n",
    "    it_datasets,\n",
    "    method='mahalanobis',\n",
    "    noise=run_precs,\n",
    ")"
   ]
  },
  {
   "cell_type": "code",
   "execution_count": 34,
   "metadata": {},
   "outputs": [],
   "source": [
    "subject_run_rdms = data_rdms.subset(by='sub', value='01')\n",
    "subject_rdm = subject_run_rdms.mean()"
   ]
  },
  {
   "cell_type": "markdown",
   "metadata": {},
   "source": [
    "Let's plot the participant RDMs."
   ]
  },
  {
   "cell_type": "code",
   "execution_count": 35,
   "metadata": {},
   "outputs": [
    {
     "data": {
      "image/png": "[encoded data removed]",
      "text/plain": [
       "<Figure size 200x200 with 2 Axes>"
      ]
     },
     "metadata": {},
     "output_type": "display_data"
    }
   ],
   "source": [
    "fig, _, _ = show_rdm(subject_rdm, show_colorbar='panel')\n",
    "matplotlib.pyplot.show()"
   ]
  },
  {
   "cell_type": "markdown",
   "metadata": {},
   "source": [
    "## Model"
   ]
  },
  {
   "cell_type": "markdown",
   "metadata": {},
   "source": [
    "Let's map the various stimulus properties of interest on a table"
   ]
  },
  {
   "cell_type": "code",
   "execution_count": 25,
   "metadata": {},
   "outputs": [
    {
     "data": {
      "text/html": [
       "<div>\n",
       "<style scoped>\n",
       "    .dataframe tbody tr th:only-of-type {\n",
       "        vertical-align: middle;\n",
       "    }\n",
       "\n",
       "    .dataframe tbody tr th {\n",
       "        vertical-align: top;\n",
       "    }\n",
       "\n",
       "    .dataframe thead th {\n",
       "        text-align: right;\n",
       "    }\n",
       "</style>\n",
       "<table border=\"1\" class=\"dataframe\">\n",
       "  <thead>\n",
       "    <tr style=\"text-align: right;\">\n",
       "      <th></th>\n",
       "      <th>trial_type</th>\n",
       "      <th>indoor</th>\n",
       "      <th>straight</th>\n",
       "      <th>modality</th>\n",
       "    </tr>\n",
       "  </thead>\n",
       "  <tbody>\n",
       "    <tr>\n",
       "      <th>0</th>\n",
       "      <td>image_bagel</td>\n",
       "      <td>1.0</td>\n",
       "      <td>0.0</td>\n",
       "      <td>1.0</td>\n",
       "    </tr>\n",
       "    <tr>\n",
       "      <th>1</th>\n",
       "      <td>image_brick</td>\n",
       "      <td>0.0</td>\n",
       "      <td>1.0</td>\n",
       "      <td>1.0</td>\n",
       "    </tr>\n",
       "    <tr>\n",
       "      <th>2</th>\n",
       "      <td>image_candle</td>\n",
       "      <td>1.0</td>\n",
       "      <td>1.0</td>\n",
       "      <td>1.0</td>\n",
       "    </tr>\n",
       "    <tr>\n",
       "      <th>3</th>\n",
       "      <td>image_clock</td>\n",
       "      <td>1.0</td>\n",
       "      <td>0.0</td>\n",
       "      <td>1.0</td>\n",
       "    </tr>\n",
       "    <tr>\n",
       "      <th>4</th>\n",
       "      <td>image_glass</td>\n",
       "      <td>1.0</td>\n",
       "      <td>0.0</td>\n",
       "      <td>1.0</td>\n",
       "    </tr>\n",
       "    <tr>\n",
       "      <th>5</th>\n",
       "      <td>image_glove</td>\n",
       "      <td>0.0</td>\n",
       "      <td>0.0</td>\n",
       "      <td>1.0</td>\n",
       "    </tr>\n",
       "    <tr>\n",
       "      <th>6</th>\n",
       "      <td>image_helmet</td>\n",
       "      <td>0.0</td>\n",
       "      <td>0.0</td>\n",
       "      <td>1.0</td>\n",
       "    </tr>\n",
       "    <tr>\n",
       "      <th>7</th>\n",
       "      <td>image_kettle</td>\n",
       "      <td>1.0</td>\n",
       "      <td>0.0</td>\n",
       "      <td>1.0</td>\n",
       "    </tr>\n",
       "    <tr>\n",
       "      <th>8</th>\n",
       "      <td>image_knife</td>\n",
       "      <td>1.0</td>\n",
       "      <td>1.0</td>\n",
       "      <td>1.0</td>\n",
       "    </tr>\n",
       "    <tr>\n",
       "      <th>9</th>\n",
       "      <td>image_ladder</td>\n",
       "      <td>0.0</td>\n",
       "      <td>1.0</td>\n",
       "      <td>1.0</td>\n",
       "    </tr>\n",
       "    <tr>\n",
       "      <th>10</th>\n",
       "      <td>image_pedal</td>\n",
       "      <td>0.0</td>\n",
       "      <td>1.0</td>\n",
       "      <td>1.0</td>\n",
       "    </tr>\n",
       "    <tr>\n",
       "      <th>11</th>\n",
       "      <td>image_saddle</td>\n",
       "      <td>0.0</td>\n",
       "      <td>0.0</td>\n",
       "      <td>1.0</td>\n",
       "    </tr>\n",
       "    <tr>\n",
       "      <th>12</th>\n",
       "      <td>image_spade</td>\n",
       "      <td>0.0</td>\n",
       "      <td>1.0</td>\n",
       "      <td>1.0</td>\n",
       "    </tr>\n",
       "    <tr>\n",
       "      <th>13</th>\n",
       "      <td>image_sponge</td>\n",
       "      <td>1.0</td>\n",
       "      <td>1.0</td>\n",
       "      <td>1.0</td>\n",
       "    </tr>\n",
       "    <tr>\n",
       "      <th>14</th>\n",
       "      <td>image_table</td>\n",
       "      <td>1.0</td>\n",
       "      <td>1.0</td>\n",
       "      <td>1.0</td>\n",
       "    </tr>\n",
       "    <tr>\n",
       "      <th>15</th>\n",
       "      <td>image_wheel</td>\n",
       "      <td>0.0</td>\n",
       "      <td>0.0</td>\n",
       "      <td>1.0</td>\n",
       "    </tr>\n",
       "    <tr>\n",
       "      <th>16</th>\n",
       "      <td>text_bagel</td>\n",
       "      <td>1.0</td>\n",
       "      <td>0.0</td>\n",
       "      <td>0.0</td>\n",
       "    </tr>\n",
       "    <tr>\n",
       "      <th>17</th>\n",
       "      <td>text_brick</td>\n",
       "      <td>0.0</td>\n",
       "      <td>1.0</td>\n",
       "      <td>0.0</td>\n",
       "    </tr>\n",
       "    <tr>\n",
       "      <th>18</th>\n",
       "      <td>text_candle</td>\n",
       "      <td>1.0</td>\n",
       "      <td>1.0</td>\n",
       "      <td>0.0</td>\n",
       "    </tr>\n",
       "    <tr>\n",
       "      <th>19</th>\n",
       "      <td>text_clock</td>\n",
       "      <td>1.0</td>\n",
       "      <td>0.0</td>\n",
       "      <td>0.0</td>\n",
       "    </tr>\n",
       "    <tr>\n",
       "      <th>20</th>\n",
       "      <td>text_glass</td>\n",
       "      <td>1.0</td>\n",
       "      <td>0.0</td>\n",
       "      <td>0.0</td>\n",
       "    </tr>\n",
       "    <tr>\n",
       "      <th>21</th>\n",
       "      <td>text_glove</td>\n",
       "      <td>0.0</td>\n",
       "      <td>0.0</td>\n",
       "      <td>0.0</td>\n",
       "    </tr>\n",
       "    <tr>\n",
       "      <th>22</th>\n",
       "      <td>text_helmet</td>\n",
       "      <td>0.0</td>\n",
       "      <td>0.0</td>\n",
       "      <td>0.0</td>\n",
       "    </tr>\n",
       "    <tr>\n",
       "      <th>23</th>\n",
       "      <td>text_kettle</td>\n",
       "      <td>1.0</td>\n",
       "      <td>0.0</td>\n",
       "      <td>0.0</td>\n",
       "    </tr>\n",
       "    <tr>\n",
       "      <th>24</th>\n",
       "      <td>text_knife</td>\n",
       "      <td>1.0</td>\n",
       "      <td>1.0</td>\n",
       "      <td>0.0</td>\n",
       "    </tr>\n",
       "    <tr>\n",
       "      <th>25</th>\n",
       "      <td>text_ladder</td>\n",
       "      <td>0.0</td>\n",
       "      <td>1.0</td>\n",
       "      <td>0.0</td>\n",
       "    </tr>\n",
       "    <tr>\n",
       "      <th>26</th>\n",
       "      <td>text_pedal</td>\n",
       "      <td>0.0</td>\n",
       "      <td>1.0</td>\n",
       "      <td>0.0</td>\n",
       "    </tr>\n",
       "    <tr>\n",
       "      <th>27</th>\n",
       "      <td>text_saddle</td>\n",
       "      <td>0.0</td>\n",
       "      <td>0.0</td>\n",
       "      <td>0.0</td>\n",
       "    </tr>\n",
       "    <tr>\n",
       "      <th>28</th>\n",
       "      <td>text_spade</td>\n",
       "      <td>0.0</td>\n",
       "      <td>1.0</td>\n",
       "      <td>0.0</td>\n",
       "    </tr>\n",
       "    <tr>\n",
       "      <th>29</th>\n",
       "      <td>text_sponge</td>\n",
       "      <td>1.0</td>\n",
       "      <td>1.0</td>\n",
       "      <td>0.0</td>\n",
       "    </tr>\n",
       "    <tr>\n",
       "      <th>30</th>\n",
       "      <td>text_table</td>\n",
       "      <td>1.0</td>\n",
       "      <td>1.0</td>\n",
       "      <td>0.0</td>\n",
       "    </tr>\n",
       "    <tr>\n",
       "      <th>31</th>\n",
       "      <td>text_wheel</td>\n",
       "      <td>0.0</td>\n",
       "      <td>0.0</td>\n",
       "      <td>0.0</td>\n",
       "    </tr>\n",
       "  </tbody>\n",
       "</table>\n",
       "</div>"
      ],
      "text/plain": [
       "      trial_type  indoor  straight  modality\n",
       "0    image_bagel     1.0       0.0       1.0\n",
       "1    image_brick     0.0       1.0       1.0\n",
       "2   image_candle     1.0       1.0       1.0\n",
       "3    image_clock     1.0       0.0       1.0\n",
       "4    image_glass     1.0       0.0       1.0\n",
       "5    image_glove     0.0       0.0       1.0\n",
       "6   image_helmet     0.0       0.0       1.0\n",
       "7   image_kettle     1.0       0.0       1.0\n",
       "8    image_knife     1.0       1.0       1.0\n",
       "9   image_ladder     0.0       1.0       1.0\n",
       "10   image_pedal     0.0       1.0       1.0\n",
       "11  image_saddle     0.0       0.0       1.0\n",
       "12   image_spade     0.0       1.0       1.0\n",
       "13  image_sponge     1.0       1.0       1.0\n",
       "14   image_table     1.0       1.0       1.0\n",
       "15   image_wheel     0.0       0.0       1.0\n",
       "16    text_bagel     1.0       0.0       0.0\n",
       "17    text_brick     0.0       1.0       0.0\n",
       "18   text_candle     1.0       1.0       0.0\n",
       "19    text_clock     1.0       0.0       0.0\n",
       "20    text_glass     1.0       0.0       0.0\n",
       "21    text_glove     0.0       0.0       0.0\n",
       "22   text_helmet     0.0       0.0       0.0\n",
       "23   text_kettle     1.0       0.0       0.0\n",
       "24    text_knife     1.0       1.0       0.0\n",
       "25   text_ladder     0.0       1.0       0.0\n",
       "26    text_pedal     0.0       1.0       0.0\n",
       "27   text_saddle     0.0       0.0       0.0\n",
       "28    text_spade     0.0       1.0       0.0\n",
       "29   text_sponge     1.0       1.0       0.0\n",
       "30    text_table     1.0       1.0       0.0\n",
       "31    text_wheel     0.0       0.0       0.0"
      ]
     },
     "execution_count": 25,
     "metadata": {},
     "output_type": "execute_result"
    }
   ],
   "source": [
    "a_ds = it_datasets[0]\n",
    "obj_conds = numpy.unique(a_ds.obs_descriptors['trial_type']).tolist()\n",
    "INDOOR = ['bagel', 'candle', 'clock', 'glass', 'kettle', 'knife', 'sponge', 'table']\n",
    "STRAIGHT = ['candle', 'knife', 'sponge', 'table', 'spade', 'ladder', 'brick', 'pedal']\n",
    "df = pandas.DataFrame([dict(\n",
    "    trial_type=c,\n",
    "    indoor=float(c.split('_')[1] in INDOOR),\n",
    "    straight=float(c.split('_')[1] in STRAIGHT),\n",
    "    modality=float('image_' in c)\n",
    ") for c in obj_conds])\n",
    "df"
   ]
  },
  {
   "cell_type": "markdown",
   "metadata": {},
   "source": [
    "We can then turn these into Model RDMs"
   ]
  },
  {
   "cell_type": "code",
   "execution_count": 26,
   "metadata": {},
   "outputs": [
    {
     "data": {
      "image/png": "[encoded data removed]",
      "text/plain": [
       "<Figure size 400x400 with 4 Axes>"
      ]
     },
     "metadata": {},
     "output_type": "display_data"
    }
   ],
   "source": [
    "model_dataset = Dataset.from_df(df)\n",
    "model_dataset.channel_descriptors\n",
    "model_rdms = calc_rdm(\n",
    "    [model_dataset.split_channel('name')],\n",
    "    method='euclidean',\n",
    "    descriptor='trial_type'\n",
    ")\n",
    "model_rdms.rdm_descriptors['name'] = model_dataset.channel_descriptors['name']\n",
    "fig, _, _ = show_rdm(model_rdms, rdm_descriptor='name')\n",
    "matplotlib.pyplot.show()"
   ]
  },
  {
   "cell_type": "markdown",
   "metadata": {},
   "source": [
    "Next, we wrap each of the model RDMs in their own fixed `Model` object."
   ]
  },
  {
   "cell_type": "code",
   "execution_count": 27,
   "metadata": {},
   "outputs": [],
   "source": [
    "from rsatoolbox.model.model import ModelFixed\n",
    "\n",
    "models = []\n",
    "for model_name in model_rdms.rdm_descriptors['name']:\n",
    "    model_rdm = model_rdms.subset('name', model_name)\n",
    "    models.append(ModelFixed(model_name, model_rdm))"
   ]
  },
  {
   "cell_type": "markdown",
   "metadata": {},
   "source": [
    "## Inference"
   ]
  },
  {
   "cell_type": "markdown",
   "metadata": {},
   "source": [
    "Let's see how well each of these models explains the fMRI data RDMs"
   ]
  },
  {
   "cell_type": "code",
   "execution_count": 28,
   "metadata": {},
   "outputs": [
    {
     "name": "stderr",
     "output_type": "stream",
     "text": [
      "  0%|          | 0/1000 [00:00<?, ?it/s]"
     ]
    },
    {
     "name": "stderr",
     "output_type": "stream",
     "text": [
      "100%|██████████| 1000/1000 [00:19<00:00, 52.24it/s]"
     ]
    },
    {
     "name": "stdout",
     "output_type": "stream",
     "text": [
      "Results for running bootstrap_rdm evaluation for cosine on 3 models:\n",
      "\n",
      "Model    |   Eval ± SEM   | p (against 0) | p (against NC) |\n",
      "------------------------------------------------------------\n",
      "indoor   |  0.687 ± 0.002 |      < 0.001  |       < 0.001  |\n",
      "straight |  0.687 ± 0.002 |      < 0.001  |       < 0.001  |\n",
      "modality |  0.695 ± 0.002 |      < 0.001  |       < 0.001  |\n",
      "\n",
      "p-values are based on uncorrected t-tests\n"
     ]
    },
    {
     "name": "stderr",
     "output_type": "stream",
     "text": [
      "\n"
     ]
    }
   ],
   "source": [
    "from rsatoolbox.inference.evaluate import eval_bootstrap_rdm\n",
    "\n",
    "eval_result = eval_bootstrap_rdm(models, data_rdms)\n",
    "print(eval_result)"
   ]
  },
  {
   "cell_type": "markdown",
   "metadata": {},
   "source": [
    "Next let's plot a comparison of the models:"
   ]
  },
  {
   "cell_type": "code",
   "execution_count": 29,
   "metadata": {},
   "outputs": [
    {
     "data": {
      "image/png": "[encoded data removed]",
      "text/plain": [
       "<Figure size 1250x1000 with 2 Axes>"
      ]
     },
     "metadata": {},
     "output_type": "display_data"
    }
   ],
   "source": [
    "from rsatoolbox.vis.model_plot import plot_model_comparison\n",
    "\n",
    "fig, _, _ = plot_model_comparison(eval_result, sort=True)\n",
    "matplotlib.pyplot.show()"
   ]
  }
 ],
 "metadata": {
  "kernelspec": {
   "display_name": "env",
   "language": "python",
   "name": "python3"
  },
  "language_info": {
   "codemirror_mode": {
    "name": "ipython",
    "version": 3
   },
   "file_extension": ".py",
   "mimetype": "text/x-python",
   "name": "python",
   "nbconvert_exporter": "python",
   "pygments_lexer": "ipython3",
   "version": "3.11.2"
  },
  "orig_nbformat": 4
 },
 "nbformat": 4,
 "nbformat_minor": 2
}
