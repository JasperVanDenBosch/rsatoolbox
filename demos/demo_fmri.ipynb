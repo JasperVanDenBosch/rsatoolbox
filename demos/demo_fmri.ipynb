{
 "cells": [
  {
   "cell_type": "markdown",
   "metadata": {},
   "source": [
    "# fMRI Demo"
   ]
  },
  {
   "cell_type": "markdown",
   "metadata": {},
   "source": [
    "## Introduction\n",
    "\n",
    "Here we show how to load your BIDS-structured fMRI dataset into rsatoolbox. n14 2ses"
   ]
  },
  {
   "cell_type": "markdown",
   "metadata": {},
   "source": [
    "![stimuli](demo_fmri_files/mur32_stims.png)"
   ]
  },
  {
   "cell_type": "markdown",
   "metadata": {},
   "source": [
    "This library depends on *nibabel* for convenience functions to access MRI data, and is used separately in the demo as well, so start by installing nibabel (`pip install nibabel`).\n",
    "\n",
    "Then run the following imports:"
   ]
  },
  {
   "cell_type": "code",
   "execution_count": 1,
   "metadata": {},
   "outputs": [],
   "source": [
    "%matplotlib inline\n",
    "from os.path import expanduser\n",
    "from rsatoolbox.io.fmriprep import find_fmriprep_runs\n",
    "from rsatoolbox.data.dataset import Dataset"
   ]
  },
  {
   "cell_type": "markdown",
   "metadata": {},
   "source": [
    "Describe data dir"
   ]
  },
  {
   "cell_type": "code",
   "execution_count": 2,
   "metadata": {},
   "outputs": [],
   "source": [
    "data_dir = expanduser('~/data/rsatoolbox/mur32')"
   ]
  },
  {
   "cell_type": "markdown",
   "metadata": {},
   "source": [
    "Next we use a utility function to find the relevant preprocessed BOLD images:"
   ]
  },
  {
   "cell_type": "code",
   "execution_count": 3,
   "metadata": {},
   "outputs": [
    {
     "data": {
      "text/plain": [
       "54"
      ]
     },
     "execution_count": 3,
     "metadata": {},
     "output_type": "execute_result"
    }
   ],
   "source": [
    "runs = find_fmriprep_runs(data_dir, tasks=['main'])\n",
    "len(runs)"
   ]
  },
  {
   "cell_type": "markdown",
   "metadata": {},
   "source": [
    "Each run object carries the relevant data and metadata"
   ]
  },
  {
   "cell_type": "code",
   "execution_count": 4,
   "metadata": {},
   "outputs": [
    {
     "data": {
      "text/plain": [
       "<FmriprepRun [sub-08/ses-02/func/sub-08_ses-02_task-main_run-02_space-MNI152NLin2009cAsym_desc-preproc_bold.nii.gz]>"
      ]
     },
     "execution_count": 4,
     "metadata": {},
     "output_type": "execute_result"
    }
   ],
   "source": [
    "runs[0]"
   ]
  },
  {
   "cell_type": "code",
   "execution_count": 5,
   "metadata": {},
   "outputs": [
    {
     "data": {
      "text/plain": [
       "(65, 77, 55, 546)"
      ]
     },
     "execution_count": 5,
     "metadata": {},
     "output_type": "execute_result"
    }
   ],
   "source": [
    "runs[0].get_data().shape ## bold timeseries: x * y * z * time"
   ]
  },
  {
   "cell_type": "code",
   "execution_count": 6,
   "metadata": {},
   "outputs": [
    {
     "data": {
      "text/html": [
       "<div>\n",
       "<style scoped>\n",
       "    .dataframe tbody tr th:only-of-type {\n",
       "        vertical-align: middle;\n",
       "    }\n",
       "\n",
       "    .dataframe tbody tr th {\n",
       "        vertical-align: top;\n",
       "    }\n",
       "\n",
       "    .dataframe thead th {\n",
       "        text-align: right;\n",
       "    }\n",
       "</style>\n",
       "<table border=\"1\" class=\"dataframe\">\n",
       "  <thead>\n",
       "    <tr style=\"text-align: right;\">\n",
       "      <th></th>\n",
       "      <th>onset</th>\n",
       "      <th>duration</th>\n",
       "      <th>trial_type</th>\n",
       "      <th>modality</th>\n",
       "      <th>identity</th>\n",
       "      <th>response_time</th>\n",
       "      <th>task</th>\n",
       "      <th>response_mapping</th>\n",
       "    </tr>\n",
       "  </thead>\n",
       "  <tbody>\n",
       "    <tr>\n",
       "      <th>165</th>\n",
       "      <td>495.002</td>\n",
       "      <td>0.5</td>\n",
       "      <td>text_brick</td>\n",
       "      <td>text</td>\n",
       "      <td>brick</td>\n",
       "      <td>NaN</td>\n",
       "      <td>verbal</td>\n",
       "      <td>right-left</td>\n",
       "    </tr>\n",
       "    <tr>\n",
       "      <th>195</th>\n",
       "      <td>585.002</td>\n",
       "      <td>0.5</td>\n",
       "      <td>text_glass</td>\n",
       "      <td>text</td>\n",
       "      <td>glass</td>\n",
       "      <td>0.988</td>\n",
       "      <td>visual</td>\n",
       "      <td>right-left</td>\n",
       "    </tr>\n",
       "    <tr>\n",
       "      <th>175</th>\n",
       "      <td>524.996</td>\n",
       "      <td>0.5</td>\n",
       "      <td>text_clock</td>\n",
       "      <td>text</td>\n",
       "      <td>clock</td>\n",
       "      <td>1.165</td>\n",
       "      <td>verbal</td>\n",
       "      <td>right-left</td>\n",
       "    </tr>\n",
       "    <tr>\n",
       "      <th>321</th>\n",
       "      <td>962.994</td>\n",
       "      <td>0.5</td>\n",
       "      <td>text_glove</td>\n",
       "      <td>text</td>\n",
       "      <td>glove</td>\n",
       "      <td>0.954</td>\n",
       "      <td>verbal</td>\n",
       "      <td>left-right</td>\n",
       "    </tr>\n",
       "    <tr>\n",
       "      <th>66</th>\n",
       "      <td>197.991</td>\n",
       "      <td>0.5</td>\n",
       "      <td>text_candle</td>\n",
       "      <td>text</td>\n",
       "      <td>candle</td>\n",
       "      <td>1.208</td>\n",
       "      <td>semantic</td>\n",
       "      <td>right-left</td>\n",
       "    </tr>\n",
       "  </tbody>\n",
       "</table>\n",
       "</div>"
      ],
      "text/plain": [
       "       onset  duration   trial_type modality identity  response_time  \\\n",
       "165  495.002       0.5   text_brick     text    brick            NaN   \n",
       "195  585.002       0.5   text_glass     text    glass          0.988   \n",
       "175  524.996       0.5   text_clock     text    clock          1.165   \n",
       "321  962.994       0.5   text_glove     text    glove          0.954   \n",
       "66   197.991       0.5  text_candle     text   candle          1.208   \n",
       "\n",
       "         task response_mapping  \n",
       "165    verbal       right-left  \n",
       "195    visual       right-left  \n",
       "175    verbal       right-left  \n",
       "321    verbal       left-right  \n",
       "66   semantic       right-left  "
      ]
     },
     "execution_count": 6,
     "metadata": {},
     "output_type": "execute_result"
    }
   ],
   "source": [
    "runs[0].get_events().sample(5) ## 5 random events"
   ]
  },
  {
   "cell_type": "code",
   "execution_count": 7,
   "metadata": {},
   "outputs": [
    {
     "data": {
      "text/plain": [
       "2"
      ]
     },
     "execution_count": 7,
     "metadata": {},
     "output_type": "execute_result"
    }
   ],
   "source": [
    "runs[0].get_meta()['RepetitionTime'] ## TR in seconds"
   ]
  },
  {
   "cell_type": "markdown",
   "metadata": {},
   "source": [
    "## Model"
   ]
  },
  {
   "cell_type": "markdown",
   "metadata": {},
   "source": [
    "![task design](demo_fmri_files/mur32_tasks.png)"
   ]
  },
  {
   "cell_type": "code",
   "execution_count": null,
   "metadata": {},
   "outputs": [],
   "source": []
  }
 ],
 "metadata": {
  "kernelspec": {
   "display_name": "env",
   "language": "python",
   "name": "python3"
  },
  "language_info": {
   "codemirror_mode": {
    "name": "ipython",
    "version": 3
   },
   "file_extension": ".py",
   "mimetype": "text/x-python",
   "name": "python",
   "nbconvert_exporter": "python",
   "pygments_lexer": "ipython3",
   "version": "3.11.2"
  },
  "orig_nbformat": 4
 },
 "nbformat": 4,
 "nbformat_minor": 2
}
