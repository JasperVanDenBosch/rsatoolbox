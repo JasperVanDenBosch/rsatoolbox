{
 "cells": [
  {
   "cell_type": "markdown",
   "metadata": {},
   "source": [
    "# fMRI Demo"
   ]
  },
  {
   "cell_type": "markdown",
   "metadata": {},
   "source": [
    "## Introduction\n",
    "\n",
    "Here we show how to load your BIDS-structured fMRI dataset into rsatoolbox. n14 2ses"
   ]
  },
  {
   "cell_type": "markdown",
   "metadata": {},
   "source": [
    "![stimuli](demo_fmri_files/mur32_stims.png)"
   ]
  },
  {
   "cell_type": "markdown",
   "metadata": {},
   "source": [
    "This library depends on *nibabel* for convenience functions to access MRI data, and is used separately in the demo as well, so start by installing nibabel (`pip install nibabel`).\n",
    "\n",
    "Then run the following imports:"
   ]
  },
  {
   "cell_type": "code",
   "execution_count": 1,
   "metadata": {},
   "outputs": [],
   "source": [
    "%matplotlib inline\n",
    "from os.path import expanduser\n",
    "from rsatoolbox.io.fmriprep import find_fmriprep_runs, make_design_matrix\n",
    "from rsatoolbox.data.dataset import Dataset, merge_datasets\n",
    "from rsatoolbox.vis import show_rdm\n",
    "from rsatoolbox.rdm.calc import calc_rdm\n",
    "import numpy, matplotlib.pyplot"
   ]
  },
  {
   "cell_type": "markdown",
   "metadata": {},
   "source": [
    "Describe data dir"
   ]
  },
  {
   "cell_type": "code",
   "execution_count": 2,
   "metadata": {},
   "outputs": [],
   "source": [
    "data_dir = expanduser('~/data/rsatoolbox/mur32')"
   ]
  },
  {
   "cell_type": "markdown",
   "metadata": {},
   "source": [
    "Next we use a utility function to find the relevant preprocessed BOLD images:"
   ]
  },
  {
   "cell_type": "code",
   "execution_count": 3,
   "metadata": {},
   "outputs": [
    {
     "data": {
      "text/plain": [
       "54"
      ]
     },
     "execution_count": 3,
     "metadata": {},
     "output_type": "execute_result"
    }
   ],
   "source": [
    "runs = find_fmriprep_runs(data_dir, tasks=['main'])\n",
    "len(runs)"
   ]
  },
  {
   "cell_type": "markdown",
   "metadata": {},
   "source": [
    "Each run object carries the relevant data and metadata"
   ]
  },
  {
   "cell_type": "code",
   "execution_count": 4,
   "metadata": {},
   "outputs": [
    {
     "data": {
      "text/plain": [
       "<FmriprepRun [sub-08/ses-02/func/sub-08_ses-02_task-main_run-02_space-MNI152NLin2009cAsym_desc-preproc_bold.nii.gz]>"
      ]
     },
     "execution_count": 4,
     "metadata": {},
     "output_type": "execute_result"
    }
   ],
   "source": [
    "run = runs[0]\n",
    "run"
   ]
  },
  {
   "cell_type": "code",
   "execution_count": 5,
   "metadata": {},
   "outputs": [
    {
     "data": {
      "text/plain": [
       "(65, 77, 55, 546)"
      ]
     },
     "execution_count": 5,
     "metadata": {},
     "output_type": "execute_result"
    }
   ],
   "source": [
    "dims = run.get_data().shape ## bold timeseries: x * y * z * volumes\n",
    "n_vols = dims[-1]\n",
    "dims"
   ]
  },
  {
   "cell_type": "code",
   "execution_count": 6,
   "metadata": {},
   "outputs": [
    {
     "data": {
      "text/plain": [
       "2"
      ]
     },
     "execution_count": 6,
     "metadata": {},
     "output_type": "execute_result"
    }
   ],
   "source": [
    "tr = run.get_meta()['RepetitionTime'] ## TR in seconds\n",
    "tr"
   ]
  },
  {
   "cell_type": "code",
   "execution_count": 7,
   "metadata": {},
   "outputs": [
    {
     "data": {
      "text/html": [
       "<div>\n",
       "<style scoped>\n",
       "    .dataframe tbody tr th:only-of-type {\n",
       "        vertical-align: middle;\n",
       "    }\n",
       "\n",
       "    .dataframe tbody tr th {\n",
       "        vertical-align: top;\n",
       "    }\n",
       "\n",
       "    .dataframe thead th {\n",
       "        text-align: right;\n",
       "    }\n",
       "</style>\n",
       "<table border=\"1\" class=\"dataframe\">\n",
       "  <thead>\n",
       "    <tr style=\"text-align: right;\">\n",
       "      <th></th>\n",
       "      <th>onset</th>\n",
       "      <th>duration</th>\n",
       "      <th>trial_type</th>\n",
       "      <th>modality</th>\n",
       "      <th>identity</th>\n",
       "      <th>response_time</th>\n",
       "      <th>task</th>\n",
       "      <th>response_mapping</th>\n",
       "    </tr>\n",
       "  </thead>\n",
       "  <tbody>\n",
       "    <tr>\n",
       "      <th>45</th>\n",
       "      <td>135.000</td>\n",
       "      <td>0.5</td>\n",
       "      <td>text_wheel</td>\n",
       "      <td>text</td>\n",
       "      <td>wheel</td>\n",
       "      <td>0.892</td>\n",
       "      <td>fixation</td>\n",
       "      <td>left-right</td>\n",
       "    </tr>\n",
       "    <tr>\n",
       "      <th>102</th>\n",
       "      <td>305.998</td>\n",
       "      <td>0.5</td>\n",
       "      <td>text_saddle</td>\n",
       "      <td>text</td>\n",
       "      <td>saddle</td>\n",
       "      <td>1.998</td>\n",
       "      <td>visual</td>\n",
       "      <td>left-right</td>\n",
       "    </tr>\n",
       "    <tr>\n",
       "      <th>302</th>\n",
       "      <td>905.989</td>\n",
       "      <td>0.5</td>\n",
       "      <td>image_bagel</td>\n",
       "      <td>image</td>\n",
       "      <td>bagel</td>\n",
       "      <td>1.530</td>\n",
       "      <td>fixation</td>\n",
       "      <td>right-left</td>\n",
       "    </tr>\n",
       "    <tr>\n",
       "      <th>99</th>\n",
       "      <td>296.994</td>\n",
       "      <td>0.5</td>\n",
       "      <td>image_wheel</td>\n",
       "      <td>image</td>\n",
       "      <td>wheel</td>\n",
       "      <td>2.156</td>\n",
       "      <td>visual</td>\n",
       "      <td>left-right</td>\n",
       "    </tr>\n",
       "    <tr>\n",
       "      <th>182</th>\n",
       "      <td>545.988</td>\n",
       "      <td>0.5</td>\n",
       "      <td>baseline</td>\n",
       "      <td>NaN</td>\n",
       "      <td>NaN</td>\n",
       "      <td>NaN</td>\n",
       "      <td>NaN</td>\n",
       "      <td>NaN</td>\n",
       "    </tr>\n",
       "  </tbody>\n",
       "</table>\n",
       "</div>"
      ],
      "text/plain": [
       "       onset  duration   trial_type modality identity  response_time  \\\n",
       "45   135.000       0.5   text_wheel     text    wheel          0.892   \n",
       "102  305.998       0.5  text_saddle     text   saddle          1.998   \n",
       "302  905.989       0.5  image_bagel    image    bagel          1.530   \n",
       "99   296.994       0.5  image_wheel    image    wheel          2.156   \n",
       "182  545.988       0.5     baseline      NaN      NaN            NaN   \n",
       "\n",
       "         task response_mapping  \n",
       "45   fixation       left-right  \n",
       "102    visual       left-right  \n",
       "302  fixation       right-left  \n",
       "99     visual       left-right  \n",
       "182       NaN              NaN  "
      ]
     },
     "execution_count": 7,
     "metadata": {},
     "output_type": "execute_result"
    }
   ],
   "source": [
    "run.get_events().sample(5) ## 5 random events"
   ]
  },
  {
   "cell_type": "code",
   "execution_count": 8,
   "metadata": {},
   "outputs": [
    {
     "data": {
      "text/plain": [
       "445"
      ]
     },
     "execution_count": 8,
     "metadata": {},
     "output_type": "execute_result"
    }
   ],
   "source": [
    "numpy.unique(run.get_parcellation())\n",
    "it = run.get_parcellation() == 2009\n",
    "it.sum()\n",
    "## 2009\t\"ctx-rh-inferiortemporal\"\t#b42878"
   ]
  },
  {
   "cell_type": "markdown",
   "metadata": {},
   "source": [
    "## Patterns\n",
    "\n",
    "Next we want to establish Multi-Voxel Patterns from the timeseries, such that, for each stimulus presentation, we have one observation per voxel. The most common way to do this is with a General Linear Model, where each predictor in the model reflects one type of event, convolved with the haemodynamic response function (HRF). For the purposes of this demo we will use a very basic glm implementation in Python. For a guide on MVPA, see [Mur et al. 2009](https://doi.org/10.1093/scan/nsn044)."
   ]
  },
  {
   "cell_type": "markdown",
   "metadata": {},
   "source": [
    "First we use a utility function which creates predictors from the events table and convolves them with the HRF. Note that we have 34 predictors, with a value for each volume in the BOLD timeseries. The smooth line that appears in the first ~70 timepoints is a side effect of the conditions being sorted according to their first occurrence."
   ]
  },
  {
   "cell_type": "code",
   "execution_count": 9,
   "metadata": {},
   "outputs": [
    {
     "data": {
      "text/plain": [
       "<matplotlib.image.AxesImage at 0x14fe7c550>"
      ]
     },
     "execution_count": 9,
     "metadata": {},
     "output_type": "execute_result"
    },
    {
     "data": {
      "image/png": "[encoded data removed]",
      "text/plain": [
       "<Figure size 1400x800 with 1 Axes>"
      ]
     },
     "metadata": {},
     "output_type": "display_data"
    }
   ],
   "source": [
    "fig=matplotlib.pyplot.figure(figsize=(14,8))\n",
    "dm = make_design_matrix(run.get_events(), tr, n_vols)\n",
    "matplotlib.pyplot.imshow(dm.T)"
   ]
  },
  {
   "cell_type": "markdown",
   "metadata": {},
   "source": [
    "Then we define our GLM function"
   ]
  },
  {
   "cell_type": "code",
   "execution_count": 10,
   "metadata": {
    "tags": []
   },
   "outputs": [],
   "source": [
    "def simple_glm(data, dm):\n",
    "    data = data.reshape(-1, data.shape[-1])\n",
    "    data = data / data.mean(axis=0)\n",
    "    X = numpy.linalg.inv(dm.T @ dm) @ dm.T\n",
    "    betas = X @ data.T\n",
    "    return betas"
   ]
  },
  {
   "cell_type": "markdown",
   "metadata": {},
   "source": [
    "When we apply this to the first run we get the following pattern array"
   ]
  },
  {
   "cell_type": "code",
   "execution_count": 11,
   "metadata": {},
   "outputs": [
    {
     "data": {
      "text/plain": [
       "(34, 275275)"
      ]
     },
     "execution_count": 11,
     "metadata": {},
     "output_type": "execute_result"
    }
   ],
   "source": [
    "patterns = simple_glm(run.get_data(), dm)\n",
    "patterns.shape"
   ]
  },
  {
   "cell_type": "markdown",
   "metadata": {},
   "source": [
    "We also need some metadata which identifies this run and its various dimensions"
   ]
  },
  {
   "cell_type": "code",
   "execution_count": 12,
   "metadata": {},
   "outputs": [
    {
     "data": {
      "text/plain": [
       "{'descriptors': {'sub': '08', 'ses': '02', 'run': '02', 'task': 'main'},\n",
       " 'obs_descriptors': {'trial_type': array(['baseline', 'instruction', 'image_clock', 'text_saddle',\n",
       "         'image_ladder', 'text_table', 'text_helmet', 'text_brick',\n",
       "         'image_bagel', 'image_brick', 'text_pedal', 'text_glove',\n",
       "         'text_clock', 'text_ladder', 'image_glass', 'text_bagel',\n",
       "         'image_saddle', 'image_pedal', 'text_candle', 'text_kettle',\n",
       "         'image_helmet', 'text_spade', 'image_wheel', 'text_knife',\n",
       "         'image_table', 'image_candle', 'image_glove', 'text_glass',\n",
       "         'image_kettle', 'image_knife', 'image_spade', 'image_sponge',\n",
       "         'text_wheel', 'text_sponge'], dtype=object)},\n",
       " 'channel_descriptors': {'aparcaseg': array([0, 0, 0, ..., 0, 0, 0])}}"
      ]
     },
     "execution_count": 12,
     "metadata": {},
     "output_type": "execute_result"
    }
   ],
   "source": [
    "run.to_descriptors(collapse_by_trial_type=True)"
   ]
  },
  {
   "cell_type": "markdown",
   "metadata": {},
   "source": [
    "We can then combine the patterns and metadata to create an rsatoolbox `Dataset` object"
   ]
  },
  {
   "cell_type": "code",
   "execution_count": 13,
   "metadata": {},
   "outputs": [
    {
     "data": {
      "text/plain": [
       "rsatoolbox.data.Dataset(\n",
       "measurements = \n",
       "[[0. 0. 0. ... 0. 0. 0.]\n",
       " [0. 0. 0. ... 0. 0. 0.]\n",
       " [0. 0. 0. ... 0. 0. 0.]\n",
       " ...\n",
       " [0. 0. 0. ... 0. 0. 0.]\n",
       " [0. 0. 0. ... 0. 0. 0.]\n",
       " [0. 0. 0. ... 0. 0. 0.]]\n",
       "descriptors = \n",
       "{'sub': '08', 'ses': '02', 'run': '02', 'task': 'main'}\n",
       "obs_descriptors = \n",
       "{'trial_type': array(['baseline', 'instruction', 'image_clock', 'text_saddle',\n",
       "       'image_ladder', 'text_table', 'text_helmet', 'text_brick',\n",
       "       'image_bagel', 'image_brick', 'text_pedal', 'text_glove',\n",
       "       'text_clock', 'text_ladder', 'image_glass', 'text_bagel',\n",
       "       'image_saddle', 'image_pedal', 'text_candle', 'text_kettle',\n",
       "       'image_helmet', 'text_spade', 'image_wheel', 'text_knife',\n",
       "       'image_table', 'image_candle', 'image_glove', 'text_glass',\n",
       "       'image_kettle', 'image_knife', 'image_spade', 'image_sponge',\n",
       "       'text_wheel', 'text_sponge'], dtype=object)}\n",
       "channel_descriptors = \n",
       "{'aparcaseg': array([0, 0, 0, ..., 0, 0, 0])}"
      ]
     },
     "execution_count": 13,
     "metadata": {},
     "output_type": "execute_result"
    }
   ],
   "source": [
    "Dataset(\n",
    "    measurements=simple_glm(run.get_data(), dm),\n",
    "    **run.to_descriptors(collapse_by_trial_type=True)\n",
    ")"
   ]
  },
  {
   "cell_type": "markdown",
   "metadata": {},
   "source": [
    "Let's repeat this for the other runs: (takes about 2m10s)"
   ]
  },
  {
   "cell_type": "code",
   "execution_count": 14,
   "metadata": {},
   "outputs": [
    {
     "data": {
      "text/plain": [
       "54"
      ]
     },
     "execution_count": 14,
     "metadata": {},
     "output_type": "execute_result"
    }
   ],
   "source": [
    "datasets = []\n",
    "for run in runs:\n",
    "    dm = make_design_matrix(run.get_events(), tr, n_vols)\n",
    "    datasets.append(Dataset(\n",
    "        measurements=simple_glm(run.get_data(), dm),\n",
    "        **run.to_descriptors(collapse_by_trial_type=True)\n",
    "    ))\n",
    "len(datasets)"
   ]
  },
  {
   "cell_type": "markdown",
   "metadata": {},
   "source": [
    "Then we combine the run-wise `Dataset` objects into one for the whole experiment (it's several gigabytes in size)"
   ]
  },
  {
   "cell_type": "code",
   "execution_count": 15,
   "metadata": {},
   "outputs": [
    {
     "name": "stdout",
     "output_type": "stream",
     "text": [
      "3.7GB\n"
     ]
    }
   ],
   "source": [
    "ds = merge_datasets(datasets)\n",
    "print(f'{(ds.measurements.nbytes / 1024**3):.1f}GB')"
   ]
  },
  {
   "cell_type": "markdown",
   "metadata": {},
   "source": [
    "## Calculate data RDMs"
   ]
  },
  {
   "cell_type": "markdown",
   "metadata": {},
   "source": [
    "ROI"
   ]
  },
  {
   "cell_type": "code",
   "execution_count": 16,
   "metadata": {},
   "outputs": [],
   "source": [
    "ds = ds.subset_channel('aparcaseg', 2009)"
   ]
  },
  {
   "cell_type": "markdown",
   "metadata": {},
   "source": [
    "\n",
    "We will create one RDM for per subject, so that later we can test our hypothesis on the sample.\n",
    "This splits the dataset into a list of `Dataset` objects:"
   ]
  },
  {
   "cell_type": "code",
   "execution_count": 17,
   "metadata": {},
   "outputs": [
    {
     "data": {
      "text/plain": [
       "9"
      ]
     },
     "execution_count": 17,
     "metadata": {},
     "output_type": "execute_result"
    }
   ],
   "source": [
    "subject_datasets = ds.split_obs(by='sub')\n",
    "len(subject_datasets)"
   ]
  },
  {
   "cell_type": "markdown",
   "metadata": {},
   "source": [
    "Then pass this list to `calc_rdm` to compute the crossvalidated mahalanobis or crossnobis dissimilarity:"
   ]
  },
  {
   "cell_type": "code",
   "execution_count": 18,
   "metadata": {},
   "outputs": [
    {
     "ename": "AssertionError",
     "evalue": "cv_descriptor generation failed:\ndifferent number of observations per pattern",
     "output_type": "error",
     "traceback": [
      "\u001b[0;31m---------------------------------------------------------------------------\u001b[0m",
      "\u001b[0;31mAssertionError\u001b[0m                            Traceback (most recent call last)",
      "Cell \u001b[0;32mIn[18], line 1\u001b[0m\n\u001b[0;32m----> 1\u001b[0m data_rdms \u001b[39m=\u001b[39m calc_rdm(subject_datasets, method\u001b[39m=\u001b[39;49m\u001b[39m'\u001b[39;49m\u001b[39mcrossnobis\u001b[39;49m\u001b[39m'\u001b[39;49m, descriptor\u001b[39m=\u001b[39;49m\u001b[39m'\u001b[39;49m\u001b[39mtrial_type\u001b[39;49m\u001b[39m'\u001b[39;49m)\n",
      "File \u001b[0;32m~/projects/rsatoolbox/env/lib/python3.11/site-packages/rsatoolbox/rdm/calc.py:52\u001b[0m, in \u001b[0;36mcalc_rdm\u001b[0;34m(dataset, method, descriptor, noise, cv_descriptor, prior_lambda, prior_weight)\u001b[0m\n\u001b[1;32m     50\u001b[0m \u001b[39mfor\u001b[39;00m i_dat, ds_i \u001b[39min\u001b[39;00m \u001b[39menumerate\u001b[39m(dataset):\n\u001b[1;32m     51\u001b[0m     \u001b[39mif\u001b[39;00m noise \u001b[39mis\u001b[39;00m \u001b[39mNone\u001b[39;00m:\n\u001b[0;32m---> 52\u001b[0m         rdms\u001b[39m.\u001b[39mappend(calc_rdm(\n\u001b[1;32m     53\u001b[0m             ds_i, method\u001b[39m=\u001b[39;49mmethod,\n\u001b[1;32m     54\u001b[0m             descriptor\u001b[39m=\u001b[39;49mdescriptor,\n\u001b[1;32m     55\u001b[0m             cv_descriptor\u001b[39m=\u001b[39;49mcv_descriptor,\n\u001b[1;32m     56\u001b[0m             prior_lambda\u001b[39m=\u001b[39;49mprior_lambda, prior_weight\u001b[39m=\u001b[39;49mprior_weight))\n\u001b[1;32m     57\u001b[0m     \u001b[39melif\u001b[39;00m \u001b[39misinstance\u001b[39m(noise, np\u001b[39m.\u001b[39mndarray) \u001b[39mand\u001b[39;00m noise\u001b[39m.\u001b[39mndim \u001b[39m==\u001b[39m \u001b[39m2\u001b[39m:\n\u001b[1;32m     58\u001b[0m         rdms\u001b[39m.\u001b[39mappend(calc_rdm(\n\u001b[1;32m     59\u001b[0m             ds_i, method\u001b[39m=\u001b[39mmethod,\n\u001b[1;32m     60\u001b[0m             descriptor\u001b[39m=\u001b[39mdescriptor,\n\u001b[1;32m     61\u001b[0m             noise\u001b[39m=\u001b[39mnoise,\n\u001b[1;32m     62\u001b[0m             cv_descriptor\u001b[39m=\u001b[39mcv_descriptor,\n\u001b[1;32m     63\u001b[0m             prior_lambda\u001b[39m=\u001b[39mprior_lambda, prior_weight\u001b[39m=\u001b[39mprior_weight))\n",
      "File \u001b[0;32m~/projects/rsatoolbox/env/lib/python3.11/site-packages/rsatoolbox/rdm/calc.py:83\u001b[0m, in \u001b[0;36mcalc_rdm\u001b[0;34m(dataset, method, descriptor, noise, cv_descriptor, prior_lambda, prior_weight)\u001b[0m\n\u001b[1;32m     81\u001b[0m     rdm \u001b[39m=\u001b[39m calc_rdm_mahalanobis(dataset, descriptor, noise)\n\u001b[1;32m     82\u001b[0m \u001b[39melif\u001b[39;00m method \u001b[39m==\u001b[39m \u001b[39m'\u001b[39m\u001b[39mcrossnobis\u001b[39m\u001b[39m'\u001b[39m:\n\u001b[0;32m---> 83\u001b[0m     rdm \u001b[39m=\u001b[39m calc_rdm_crossnobis(dataset, descriptor, noise,\n\u001b[1;32m     84\u001b[0m                               cv_descriptor)\n\u001b[1;32m     85\u001b[0m \u001b[39melif\u001b[39;00m method \u001b[39m==\u001b[39m \u001b[39m'\u001b[39m\u001b[39mpoisson\u001b[39m\u001b[39m'\u001b[39m:\n\u001b[1;32m     86\u001b[0m     rdm \u001b[39m=\u001b[39m calc_rdm_poisson(dataset, descriptor,\n\u001b[1;32m     87\u001b[0m                            prior_lambda\u001b[39m=\u001b[39mprior_lambda,\n\u001b[1;32m     88\u001b[0m                            prior_weight\u001b[39m=\u001b[39mprior_weight)\n",
      "File \u001b[0;32m~/projects/rsatoolbox/env/lib/python3.11/site-packages/rsatoolbox/rdm/calc.py:300\u001b[0m, in \u001b[0;36mcalc_rdm_crossnobis\u001b[0;34m(dataset, descriptor, noise, cv_descriptor)\u001b[0m\n\u001b[1;32m    298\u001b[0m datasetCopy \u001b[39m=\u001b[39m deepcopy(dataset)\n\u001b[1;32m    299\u001b[0m \u001b[39mif\u001b[39;00m cv_descriptor \u001b[39mis\u001b[39;00m \u001b[39mNone\u001b[39;00m:\n\u001b[0;32m--> 300\u001b[0m     cv_desc \u001b[39m=\u001b[39m _gen_default_cv_descriptor(datasetCopy, descriptor)\n\u001b[1;32m    301\u001b[0m     datasetCopy\u001b[39m.\u001b[39mobs_descriptors[\u001b[39m'\u001b[39m\u001b[39mcv_desc\u001b[39m\u001b[39m'\u001b[39m] \u001b[39m=\u001b[39m cv_desc\n\u001b[1;32m    302\u001b[0m     cv_descriptor \u001b[39m=\u001b[39m \u001b[39m'\u001b[39m\u001b[39mcv_desc\u001b[39m\u001b[39m'\u001b[39m\n",
      "File \u001b[0;32m~/projects/rsatoolbox/env/lib/python3.11/site-packages/rsatoolbox/rdm/calc.py:443\u001b[0m, in \u001b[0;36m_gen_default_cv_descriptor\u001b[0;34m(dataset, descriptor)\u001b[0m\n\u001b[1;32m    441\u001b[0m desc \u001b[39m=\u001b[39m np\u001b[39m.\u001b[39masarray(dataset\u001b[39m.\u001b[39mobs_descriptors[descriptor])\n\u001b[1;32m    442\u001b[0m values, counts \u001b[39m=\u001b[39m np\u001b[39m.\u001b[39munique(desc, return_counts\u001b[39m=\u001b[39m\u001b[39mTrue\u001b[39;00m)\n\u001b[0;32m--> 443\u001b[0m \u001b[39massert\u001b[39;00m np\u001b[39m.\u001b[39mall(counts \u001b[39m==\u001b[39m counts[\u001b[39m0\u001b[39m]), (\n\u001b[1;32m    444\u001b[0m     \u001b[39m'\u001b[39m\u001b[39mcv_descriptor generation failed:\u001b[39m\u001b[39m\\n\u001b[39;00m\u001b[39m'\u001b[39m\n\u001b[1;32m    445\u001b[0m     \u001b[39m+\u001b[39m \u001b[39m'\u001b[39m\u001b[39mdifferent number of observations per pattern\u001b[39m\u001b[39m'\u001b[39m)\n\u001b[1;32m    446\u001b[0m n_repeats \u001b[39m=\u001b[39m counts[\u001b[39m0\u001b[39m]\n\u001b[1;32m    447\u001b[0m cv_descriptor \u001b[39m=\u001b[39m np\u001b[39m.\u001b[39mzeros_like(desc)\n",
      "\u001b[0;31mAssertionError\u001b[0m: cv_descriptor generation failed:\ndifferent number of observations per pattern"
     ]
    }
   ],
   "source": [
    "data_rdms = calc_rdm(subject_datasets, method='crossnobis', descriptor='trial_type')"
   ]
  },
  {
   "cell_type": "markdown",
   "metadata": {},
   "source": [
    "Let's plot the participant RDMs."
   ]
  },
  {
   "cell_type": "code",
   "execution_count": null,
   "metadata": {},
   "outputs": [],
   "source": [
    "fig, _, _ = show_rdm(data_rdms)\n",
    "matplotlib.pyplot.show()"
   ]
  },
  {
   "cell_type": "markdown",
   "metadata": {},
   "source": [
    "## Model"
   ]
  },
  {
   "cell_type": "markdown",
   "metadata": {},
   "source": [
    "![task design](demo_fmri_files/mur32_tasks.png)"
   ]
  },
  {
   "cell_type": "code",
   "execution_count": null,
   "metadata": {},
   "outputs": [],
   "source": [
    "## model <- modality, indoor/outdoor, straight/curved"
   ]
  }
 ],
 "metadata": {
  "kernelspec": {
   "display_name": "env",
   "language": "python",
   "name": "python3"
  },
  "language_info": {
   "codemirror_mode": {
    "name": "ipython",
    "version": 3
   },
   "file_extension": ".py",
   "mimetype": "text/x-python",
   "name": "python",
   "nbconvert_exporter": "python",
   "pygments_lexer": "ipython3",
   "version": "3.11.2"
  },
  "orig_nbformat": 4
 },
 "nbformat": 4,
 "nbformat_minor": 2
}
