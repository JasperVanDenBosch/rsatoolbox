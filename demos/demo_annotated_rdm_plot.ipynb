{
 "cells": [
  {
   "cell_type": "markdown",
   "metadata": {},
   "source": [
    "# Annotated RDM plots\n",
    "\n",
    "Some advanced manipulations on your RDM plots"
   ]
  },
  {
   "cell_type": "code",
   "execution_count": 1,
   "metadata": {},
   "outputs": [],
   "source": [
    "import matplotlib.pyplot as plt\n",
    "import numpy\n",
    "from rsatoolbox.rdm.rdms import RDMs\n",
    "from rsatoolbox.vis.rdm_plot import show_rdm"
   ]
  },
  {
   "cell_type": "markdown",
   "metadata": {},
   "source": []
  },
  {
   "cell_type": "code",
   "execution_count": 2,
   "metadata": {},
   "outputs": [],
   "source": [
    "dissim_utv = 0.25+(0.5*numpy.random.rand(5, 36)) ## 9x9 rdm\n",
    "mask = numpy.zeros([36], dtype=bool)\n",
    "mask[[11, 12, 13, 18, 19]] = True\n",
    "#dissim_utv[0, mask] = 0"
   ]
  },
  {
   "cell_type": "markdown",
   "metadata": {},
   "source": [
    "make a dummy rdms object"
   ]
  },
  {
   "cell_type": "code",
   "execution_count": 3,
   "metadata": {},
   "outputs": [],
   "source": [
    "rdms = RDMs(\n",
    "    dissimilarities=dissim_utv,\n",
    "    dissimilarity_measure='random',\n",
    ")"
   ]
  },
  {
   "cell_type": "markdown",
   "metadata": {},
   "source": [
    "basic multi plot"
   ]
  },
  {
   "cell_type": "code",
   "execution_count": 4,
   "metadata": {},
   "outputs": [
    {
     "data": {
      "image/png": "[encoded data removed]",
      "text/plain": [
       "<Figure size 600x400 with 7 Axes>"
      ]
     },
     "metadata": {},
     "output_type": "display_data"
    }
   ],
   "source": [
    "show_rdm(rdms, vmin=0, vmax=1, show_colorbar='figure')\n",
    "plt.show()"
   ]
  },
  {
   "cell_type": "markdown",
   "metadata": {},
   "source": [
    "With overlay (array arg, default color green transparency)"
   ]
  },
  {
   "cell_type": "code",
   "execution_count": 5,
   "metadata": {},
   "outputs": [
    {
     "data": {
      "image/png": "[encoded data removed]",
      "text/plain": [
       "<Figure size 600x400 with 7 Axes>"
      ]
     },
     "metadata": {},
     "output_type": "display_data"
    }
   ],
   "source": [
    "show_rdm(rdms, vmin=0, vmax=1, show_colorbar='figure', overlay=mask)\n",
    "plt.show()"
   ]
  },
  {
   "cell_type": "markdown",
   "metadata": {},
   "source": [
    "With overlay (rdm_descriptor)"
   ]
  },
  {
   "cell_type": "code",
   "execution_count": 6,
   "metadata": {},
   "outputs": [
    {
     "ename": "KeyError",
     "evalue": "'name'",
     "output_type": "error",
     "traceback": [
      "\u001b[0;31m---------------------------------------------------------------------------\u001b[0m",
      "\u001b[0;31mKeyError\u001b[0m                                  Traceback (most recent call last)",
      "\u001b[1;32m/Users/jasper/projects/rsatoolbox/demos/demo_annotated_rdm_plot.ipynb Cell 12\u001b[0m line \u001b[0;36m1\n\u001b[0;32m----> <a href='vscode-notebook-cell:/Users/jasper/projects/rsatoolbox/demos/demo_annotated_rdm_plot.ipynb#X14sZmlsZQ%3D%3D?line=0'>1</a>\u001b[0m show_rdm(rdms, vmin\u001b[39m=\u001b[39;49m\u001b[39m0\u001b[39;49m, vmax\u001b[39m=\u001b[39;49m\u001b[39m1\u001b[39;49m, show_colorbar\u001b[39m=\u001b[39;49m\u001b[39m'\u001b[39;49m\u001b[39mfigure\u001b[39;49m\u001b[39m'\u001b[39;49m, overlay\u001b[39m=\u001b[39;49m(\u001b[39m'\u001b[39;49m\u001b[39mname\u001b[39;49m\u001b[39m'\u001b[39;49m, \u001b[39m'\u001b[39;49m\u001b[39mmask\u001b[39;49m\u001b[39m'\u001b[39;49m))\n\u001b[1;32m      <a href='vscode-notebook-cell:/Users/jasper/projects/rsatoolbox/demos/demo_annotated_rdm_plot.ipynb#X14sZmlsZQ%3D%3D?line=1'>2</a>\u001b[0m plt\u001b[39m.\u001b[39mshow()\n",
      "File \u001b[0;32m~/projects/rsatoolbox/env/lib/python3.11/site-packages/rsatoolbox/vis/rdm_plot.py:129\u001b[0m, in \u001b[0;36mshow_rdm\u001b[0;34m(rdms, pattern_descriptor, cmap, rdm_descriptor, n_column, n_row, show_colorbar, gridlines, num_pattern_groups, figsize, nanmask, style, vmin, vmax, icon_spacing, linewidth, overlay, overlay_color, contour, contour_color)\u001b[0m\n\u001b[1;32m     69\u001b[0m \u001b[39m\u001b[39m\u001b[39m\"\"\"show_rdm. Heatmap figure for RDMs instance, with one panel per RDM.\u001b[39;00m\n\u001b[1;32m     70\u001b[0m \n\u001b[1;32m     71\u001b[0m \u001b[39mArgs:\u001b[39;00m\n\u001b[0;32m   (...)\u001b[0m\n\u001b[1;32m    126\u001b[0m \n\u001b[1;32m    127\u001b[0m \u001b[39m\"\"\"\u001b[39;00m\n\u001b[1;32m    128\u001b[0m \u001b[39m# create a plot \"configuration\" object which resolves all parameters\u001b[39;00m\n\u001b[0;32m--> 129\u001b[0m conf \u001b[39m=\u001b[39m MultiRdmPlot\u001b[39m.\u001b[39;49mfrom_show_rdm_args(\n\u001b[1;32m    130\u001b[0m     rdms, pattern_descriptor, cmap, rdm_descriptor, n_column, n_row,\n\u001b[1;32m    131\u001b[0m     show_colorbar, gridlines, num_pattern_groups, figsize, nanmask,\n\u001b[1;32m    132\u001b[0m     style, vmin, vmax, icon_spacing, linewidth, overlay, overlay_color,\n\u001b[1;32m    133\u001b[0m     contour, contour_color\n\u001b[1;32m    134\u001b[0m )\n\u001b[1;32m    135\u001b[0m \u001b[39m# A dictionary of figure element handles\u001b[39;00m\n\u001b[1;32m    136\u001b[0m handles \u001b[39m=\u001b[39m \u001b[39mdict\u001b[39m()\n",
      "File \u001b[0;32m~/projects/rsatoolbox/env/lib/python3.11/site-packages/rsatoolbox/vis/rdm_plot.py:585\u001b[0m, in \u001b[0;36mMultiRdmPlot.from_show_rdm_args\u001b[0;34m(cls, rdm, pattern_descriptor, cmap, rdm_descriptor, n_column, n_row, show_colorbar, gridlines, num_pattern_groups, figsize, nanmask, style, vmin, vmax, icon_spacing, linewidth, overlay, overlay_color, contour, contour_color)\u001b[0m\n\u001b[1;32m    583\u001b[0m conf\u001b[39m.\u001b[39mrdm_descriptor \u001b[39m=\u001b[39m rdm_descriptor \u001b[39mor\u001b[39;00m \u001b[39m'\u001b[39m\u001b[39m'\u001b[39m\n\u001b[1;32m    584\u001b[0m conf\u001b[39m.\u001b[39mdissimilarity_measure \u001b[39m=\u001b[39m rdm\u001b[39m.\u001b[39mdissimilarity_measure \u001b[39mor\u001b[39;00m \u001b[39m'\u001b[39m\u001b[39m'\u001b[39m\n\u001b[0;32m--> 585\u001b[0m conf\u001b[39m.\u001b[39moverlay \u001b[39m=\u001b[39m conf\u001b[39m.\u001b[39;49minterpret_rdm_arg(overlay, rdm)\n\u001b[1;32m    586\u001b[0m conf\u001b[39m.\u001b[39moverlay_color \u001b[39m=\u001b[39m overlay_color\n\u001b[1;32m    587\u001b[0m conf\u001b[39m.\u001b[39mcontour \u001b[39m=\u001b[39m conf\u001b[39m.\u001b[39minterpret_rdm_arg(contour, rdm)\n",
      "File \u001b[0;32m~/projects/rsatoolbox/env/lib/python3.11/site-packages/rsatoolbox/vis/rdm_plot.py:599\u001b[0m, in \u001b[0;36mMultiRdmPlot.interpret_rdm_arg\u001b[0;34m(self, val, rdms)\u001b[0m\n\u001b[1;32m    597\u001b[0m     \u001b[39mreturn\u001b[39;00m val\n\u001b[1;32m    598\u001b[0m \u001b[39melse\u001b[39;00m:\n\u001b[0;32m--> 599\u001b[0m     \u001b[39mreturn\u001b[39;00m rdms\u001b[39m.\u001b[39;49msubset(\u001b[39m*\u001b[39;49mval)\u001b[39m.\u001b[39mdissimilarities[\u001b[39m0\u001b[39m, :]\n",
      "File \u001b[0;32m~/projects/rsatoolbox/env/lib/python3.11/site-packages/rsatoolbox/rdm/rdms.py:295\u001b[0m, in \u001b[0;36mRDMs.subset\u001b[0;34m(self, by, value)\u001b[0m\n\u001b[1;32m    293\u001b[0m \u001b[39mif\u001b[39;00m by \u001b[39mis\u001b[39;00m \u001b[39mNone\u001b[39;00m:\n\u001b[1;32m    294\u001b[0m     by \u001b[39m=\u001b[39m \u001b[39m'\u001b[39m\u001b[39mindex\u001b[39m\u001b[39m'\u001b[39m\n\u001b[0;32m--> 295\u001b[0m selection \u001b[39m=\u001b[39m num_index(\u001b[39mself\u001b[39;49m\u001b[39m.\u001b[39;49mrdm_descriptors[by], value)\n\u001b[1;32m    296\u001b[0m dissimilarities \u001b[39m=\u001b[39m \u001b[39mself\u001b[39m\u001b[39m.\u001b[39mdissimilarities[selection, :]\n\u001b[1;32m    297\u001b[0m descriptors \u001b[39m=\u001b[39m \u001b[39mself\u001b[39m\u001b[39m.\u001b[39mdescriptors\n",
      "\u001b[0;31mKeyError\u001b[0m: 'name'"
     ]
    }
   ],
   "source": [
    "show_rdm(rdms, vmin=0, vmax=1, show_colorbar='figure', overlay=('name', 'mask'))\n",
    "plt.show()"
   ]
  },
  {
   "cell_type": "markdown",
   "metadata": {},
   "source": [
    "With contour (array arg)"
   ]
  },
  {
   "cell_type": "code",
   "execution_count": 7,
   "metadata": {},
   "outputs": [
    {
     "data": {
      "image/png": "[encoded data removed]",
      "text/plain": [
       "<Figure size 600x400 with 7 Axes>"
      ]
     },
     "metadata": {},
     "output_type": "display_data"
    }
   ],
   "source": [
    "show_rdm(rdms, vmin=0, vmax=1, show_colorbar='figure', contour=mask)\n",
    "plt.show()"
   ]
  },
  {
   "cell_type": "markdown",
   "metadata": {},
   "source": [
    "With contour (rdm descriptor)"
   ]
  },
  {
   "cell_type": "code",
   "execution_count": null,
   "metadata": {},
   "outputs": [],
   "source": [
    "show_rdm(rdms, vmin=0, vmax=1, show_colorbar='figure', contour=('name', 'mask'))\n",
    "plt.show()"
   ]
  },
  {
   "cell_type": "markdown",
   "metadata": {},
   "source": [
    "You can also build the plot in Object-Oriented fashion:"
   ]
  },
  {
   "cell_type": "code",
   "execution_count": null,
   "metadata": {},
   "outputs": [],
   "source": [
    "from rsatoolbox.vis.rdm_plot import MultiRdmPlot\n",
    "fig = MultiRdmPlot(rdms)\n",
    "fig.contour_from_rdm('name', 'myContour')\n",
    "fig.overlay = numpy.array(abc)\n",
    "fig.plot()"
   ]
  }
 ],
 "metadata": {
  "kernelspec": {
   "display_name": "env",
   "language": "python",
   "name": "python3"
  },
  "language_info": {
   "codemirror_mode": {
    "name": "ipython",
    "version": 3
   },
   "file_extension": ".py",
   "mimetype": "text/x-python",
   "name": "python",
   "nbconvert_exporter": "python",
   "pygments_lexer": "ipython3",
   "version": "3.11.2"
  },
  "orig_nbformat": 4
 },
 "nbformat": 4,
 "nbformat_minor": 2
}
