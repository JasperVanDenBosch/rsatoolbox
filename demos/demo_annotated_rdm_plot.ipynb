{
 "cells": [
  {
   "cell_type": "markdown",
   "metadata": {},
   "source": [
    "# Annotated RDM plots\n",
    "\n",
    "Some advanced manipulations on your RDM plots"
   ]
  },
  {
   "cell_type": "code",
   "execution_count": 1,
   "metadata": {},
   "outputs": [],
   "source": [
    "import matplotlib.pyplot as plt\n",
    "import numpy\n",
    "from rsatoolbox.rdm.rdms import RDMs\n",
    "from rsatoolbox.vis.rdm_plot import show_rdm"
   ]
  },
  {
   "cell_type": "markdown",
   "metadata": {},
   "source": []
  },
  {
   "cell_type": "code",
   "execution_count": 25,
   "metadata": {},
   "outputs": [],
   "source": [
    "dissim_utv = 0.25+(0.5*numpy.random.rand(5, 36)) ## 9x9 rdm\n",
    "mask = numpy.zeros([36], dtype=bool)\n",
    "mask[[11, 12, 13, 18, 19]] = True\n",
    "#dissim_utv[0, mask] = 0"
   ]
  },
  {
   "cell_type": "markdown",
   "metadata": {},
   "source": [
    "make a dummy rdms object"
   ]
  },
  {
   "cell_type": "code",
   "execution_count": 26,
   "metadata": {},
   "outputs": [],
   "source": [
    "rdms = RDMs(\n",
    "    dissimilarities=dissim_utv,\n",
    "    dissimilarity_measure='random',\n",
    ")"
   ]
  },
  {
   "cell_type": "markdown",
   "metadata": {},
   "source": [
    "basic multi plot"
   ]
  },
  {
   "cell_type": "code",
   "execution_count": 27,
   "metadata": {},
   "outputs": [
    {
     "data": {
      "image/png": "[encoded data removed]",
      "text/plain": [
       "<Figure size 600x400 with 7 Axes>"
      ]
     },
     "metadata": {},
     "output_type": "display_data"
    }
   ],
   "source": [
    "show_rdm(rdms, vmin=0, vmax=1, show_colorbar='figure')\n",
    "plt.show()"
   ]
  },
  {
   "cell_type": "markdown",
   "metadata": {},
   "source": [
    "With overlay (array arg)"
   ]
  },
  {
   "cell_type": "code",
   "execution_count": 28,
   "metadata": {},
   "outputs": [
    {
     "ename": "TypeError",
     "evalue": "show_rdm() got an unexpected keyword argument 'overlay'",
     "output_type": "error",
     "traceback": [
      "\u001b[0;31m---------------------------------------------------------------------------\u001b[0m",
      "\u001b[0;31mTypeError\u001b[0m                                 Traceback (most recent call last)",
      "\u001b[1;32m/Users/jasper/projects/rsatoolbox/demos/demo_annotated_rdm_plot.ipynb Cell 10\u001b[0m line \u001b[0;36m1\n\u001b[0;32m----> <a href='vscode-notebook-cell:/Users/jasper/projects/rsatoolbox/demos/demo_annotated_rdm_plot.ipynb#X24sZmlsZQ%3D%3D?line=0'>1</a>\u001b[0m show_rdm(rdms, vmin\u001b[39m=\u001b[39;49m\u001b[39m0\u001b[39;49m, vmax\u001b[39m=\u001b[39;49m\u001b[39m1\u001b[39;49m, show_colorbar\u001b[39m=\u001b[39;49m\u001b[39m'\u001b[39;49m\u001b[39mfigure\u001b[39;49m\u001b[39m'\u001b[39;49m, overlay\u001b[39m=\u001b[39;49mmask)\n\u001b[1;32m      <a href='vscode-notebook-cell:/Users/jasper/projects/rsatoolbox/demos/demo_annotated_rdm_plot.ipynb#X24sZmlsZQ%3D%3D?line=1'>2</a>\u001b[0m plt\u001b[39m.\u001b[39mshow()\n",
      "\u001b[0;31mTypeError\u001b[0m: show_rdm() got an unexpected keyword argument 'overlay'"
     ]
    }
   ],
   "source": [
    "show_rdm(rdms, vmin=0, vmax=1, show_colorbar='figure', overlay=mask)\n",
    "plt.show()"
   ]
  },
  {
   "cell_type": "markdown",
   "metadata": {},
   "source": [
    "With overlay (rdm_descriptor)"
   ]
  },
  {
   "cell_type": "code",
   "execution_count": null,
   "metadata": {},
   "outputs": [],
   "source": [
    "show_rdm(rdms, vmin=0, vmax=1, show_colorbar='figure', overlay=('name', 'mask'))\n",
    "plt.show()"
   ]
  },
  {
   "cell_type": "markdown",
   "metadata": {},
   "source": [
    "With contour (array arg)"
   ]
  },
  {
   "cell_type": "code",
   "execution_count": null,
   "metadata": {},
   "outputs": [],
   "source": [
    "show_rdm(rdms, vmin=0, vmax=1, show_colorbar='figure', contour=mask)\n",
    "plt.show()"
   ]
  },
  {
   "cell_type": "markdown",
   "metadata": {},
   "source": [
    "With contour (rdm descriptor)"
   ]
  },
  {
   "cell_type": "code",
   "execution_count": null,
   "metadata": {},
   "outputs": [],
   "source": [
    "show_rdm(rdms, vmin=0, vmax=1, show_colorbar='figure', contour=('name', 'mask'))\n",
    "plt.show()"
   ]
  },
  {
   "cell_type": "markdown",
   "metadata": {},
   "source": [
    "You can also build the plot in Object-Oriented fashion:"
   ]
  },
  {
   "cell_type": "code",
   "execution_count": null,
   "metadata": {},
   "outputs": [],
   "source": [
    "from rsatoolbox.vis.rdm_plot import MultiRdmPlot\n",
    "fig = MultiRdmPlot(rdms)\n",
    "fig.contour_from_rdm('name', 'myContour')\n",
    "fig.overlay = numpy.array(abc)\n",
    "fig.plot()"
   ]
  }
 ],
 "metadata": {
  "kernelspec": {
   "display_name": "env",
   "language": "python",
   "name": "python3"
  },
  "language_info": {
   "codemirror_mode": {
    "name": "ipython",
    "version": 3
   },
   "file_extension": ".py",
   "mimetype": "text/x-python",
   "name": "python",
   "nbconvert_exporter": "python",
   "pygments_lexer": "ipython3",
   "version": "3.11.2"
  },
  "orig_nbformat": 4
 },
 "nbformat": 4,
 "nbformat_minor": 2
}
